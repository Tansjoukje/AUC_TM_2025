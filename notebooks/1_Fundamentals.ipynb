{
  "cells": [
    {
      "cell_type": "markdown",
      "metadata": {
        "id": "HsabNKJYYSQE"
      },
      "source": [
        "# Python fundamentals"
      ]
    },
    {
      "cell_type": "markdown",
      "metadata": {
        "id": "VFcSWlMTYSQI"
      },
      "source": [
        "### The Zen of Python\n",
        "\n",
        "The 20 principles that influences the design of Python.\n",
        "\n",
        "Written in the 1999, they have been included as the 20th entry of the Python Enhancement Proposals (a.k.a. [PEP 20](https://www.python.org/dev/peps/pep-0020/))."
      ]
    },
    {
      "cell_type": "code",
      "execution_count": 7,
      "metadata": {
        "id": "LaTcIU2IYSQK",
        "outputId": "94544581-830b-4393-a4d4-e574a033be4c",
        "colab": {
          "base_uri": "https://localhost:8080/"
        }
      },
      "outputs": [
        {
          "output_type": "stream",
          "name": "stdout",
          "text": [
            "The Zen of Python, by Tim Peters\n",
            "\n",
            "Beautiful is better than ugly.\n",
            "Explicit is better than implicit.\n",
            "Simple is better than complex.\n",
            "Complex is better than complicated.\n",
            "Flat is better than nested.\n",
            "Sparse is better than dense.\n",
            "Readability counts.\n",
            "Special cases aren't special enough to break the rules.\n",
            "Although practicality beats purity.\n",
            "Errors should never pass silently.\n",
            "Unless explicitly silenced.\n",
            "In the face of ambiguity, refuse the temptation to guess.\n",
            "There should be one-- and preferably only one --obvious way to do it.\n",
            "Although that way may not be obvious at first unless you're Dutch.\n",
            "Now is better than never.\n",
            "Although never is often better than *right* now.\n",
            "If the implementation is hard to explain, it's a bad idea.\n",
            "If the implementation is easy to explain, it may be a good idea.\n",
            "Namespaces are one honking great idea -- let's do more of those!\n"
          ]
        }
      ],
      "source": [
        "# eastern egg\n",
        "import this"
      ]
    },
    {
      "cell_type": "markdown",
      "metadata": {
        "id": "L3Vf3A2QYSQL"
      },
      "source": [
        "*In December 1989, Van Rossum had been looking for a \"'hobby' programming project that would keep [him] occupied during the week around Christmas\" as his office was closed when he decided to write an interpreter for a \"new scripting language [he] had been thinking about lately: a descendant of ABC that would appeal to Unix/C hackers\". He attributes choosing the name \"Python\" to \"being in a slightly irreverent mood (and a big fan of Monty Python's Flying Circus)\".* https://en.wikipedia.org/wiki/Guido_van_Rossum"
      ]
    },
    {
      "cell_type": "markdown",
      "metadata": {
        "id": "5I3MvTZ4YSQL"
      },
      "source": [
        "## Getting Started\n",
        "\n",
        "If you have installed Python on your own machine, the simplest way is to type commands directly in the **Interactive** IPython shell:"
      ]
    },
    {
      "cell_type": "code",
      "execution_count": 8,
      "metadata": {
        "id": "wkJt0C6zYSQM",
        "outputId": "5e2d3fd4-54be-4694-f593-a673abc86e02",
        "colab": {
          "base_uri": "https://localhost:8080/"
        }
      },
      "outputs": [
        {
          "output_type": "stream",
          "name": "stdout",
          "text": [
            "Are we having fun yet?\n"
          ]
        }
      ],
      "source": [
        "print(\"Are we having fun yet?\")"
      ]
    },
    {
      "cell_type": "markdown",
      "source": [
        "If you are using **Google Colab**, you can bring up an interactive shell by using !bash and then asking it to run Python 3 (type python3 into the input field once bash loads, and then execute commands):"
      ],
      "metadata": {
        "id": "HuGCodx0a2oh"
      }
    },
    {
      "cell_type": "code",
      "source": [
        "!bash\n"
      ],
      "metadata": {
        "id": "0z1YKSfqbed0",
        "colab": {
          "base_uri": "https://localhost:8080/"
        },
        "outputId": "ecad3e75-07e9-4aef-ccbc-9691704e1dc3"
      },
      "execution_count": 9,
      "outputs": [
        {
          "output_type": "stream",
          "name": "stdout",
          "text": [
            "bash: cannot set terminal process group (200): Inappropriate ioctl for device\n",
            "bash: no job control in this shell\n",
            "\u001b[?2004h\u001b[?2004l\n",
            "\u001b[?2004h\u001b[?2004l\n",
            "\u001b[?2004h\u001b[?2004l\n",
            "\u001b[?2004h\u001b[01;34m/content\u001b[00m# ^C\n"
          ]
        }
      ]
    },
    {
      "cell_type": "markdown",
      "metadata": {
        "id": "HV1K6qCVYSQM"
      },
      "source": [
        "This is great for testing purposes, or for exploratory analysis, but it is very inefficient if you want to reuse the same program multiple times. An alternative is to write your instructions in a Jupyter Notebook, in which you can also explain your code to the reader using text blocks, and which can be loaded by Google Colab or Jupyter Notebook in Anaconda.\n",
        "\n",
        "A more traditional alternative when you are working on your own machine is to write your instructions in a `\\*.py` **text file** and to ask the Python interpreter to execute this file by listing its name in a python command.\n",
        "\n",
        "1. In you current working directory (`%pwd`), or somewhere else (e.g., `/stuff`), create a text file called `fun.py`\n",
        "\n",
        "2. Open this file with a text editor\n",
        "\n",
        "3. Copy the following code, save and close the file\n",
        "\n",
        "```python\n",
        "print(\"Are we having fun yet? (file version)\")\n",
        "```\n",
        "\n",
        "Launch the Python interpreter by dialing the following command in the shell:\n",
        "\n",
        "```bash\n",
        "python fun.py\n",
        "```"
      ]
    },
    {
      "cell_type": "code",
      "execution_count": 10,
      "metadata": {
        "id": "umkZfIOOYSQN",
        "outputId": "e509dd9f-a784-42ce-996b-030fc93ebc90",
        "colab": {
          "base_uri": "https://localhost:8080/"
        }
      },
      "outputs": [
        {
          "output_type": "stream",
          "name": "stdout",
          "text": [
            "python3: can't open file '/content/stuff/fun.py': [Errno 2] No such file or directory\n"
          ]
        }
      ],
      "source": [
        "# shell commands can be launched from IPythoon as well\n",
        "!python stuff/fun.py"
      ]
    },
    {
      "cell_type": "code",
      "execution_count": 11,
      "metadata": {
        "scrolled": true,
        "id": "l5N-D_ZOYSQN",
        "outputId": "0b67ba45-78ad-4aa8-a96d-fc3606ca9c3d",
        "colab": {
          "base_uri": "https://localhost:8080/",
          "height": 443
        }
      },
      "outputs": [
        {
          "output_type": "error",
          "ename": "Exception",
          "evalue": "File `'stuff/fun.py'` not found.",
          "traceback": [
            "\u001b[0;31m---------------------------------------------------------------------------\u001b[0m",
            "\u001b[0;31mOSError\u001b[0m                                   Traceback (most recent call last)",
            "\u001b[0;32m/usr/local/lib/python3.11/dist-packages/IPython/core/magics/execution.py\u001b[0m in \u001b[0;36mrun\u001b[0;34m(self, parameter_s, runner, file_finder)\u001b[0m\n\u001b[1;32m    713\u001b[0m             \u001b[0mfpath\u001b[0m \u001b[0;34m=\u001b[0m \u001b[0marg_lst\u001b[0m\u001b[0;34m[\u001b[0m\u001b[0;36m0\u001b[0m\u001b[0;34m]\u001b[0m\u001b[0;34m\u001b[0m\u001b[0;34m\u001b[0m\u001b[0m\n\u001b[0;32m--> 714\u001b[0;31m             \u001b[0mfilename\u001b[0m \u001b[0;34m=\u001b[0m \u001b[0mfile_finder\u001b[0m\u001b[0;34m(\u001b[0m\u001b[0mfpath\u001b[0m\u001b[0;34m)\u001b[0m\u001b[0;34m\u001b[0m\u001b[0;34m\u001b[0m\u001b[0m\n\u001b[0m\u001b[1;32m    715\u001b[0m         \u001b[0;32mexcept\u001b[0m \u001b[0mIndexError\u001b[0m\u001b[0;34m:\u001b[0m\u001b[0;34m\u001b[0m\u001b[0;34m\u001b[0m\u001b[0m\n",
            "\u001b[0;32m/usr/local/lib/python3.11/dist-packages/IPython/utils/path.py\u001b[0m in \u001b[0;36mget_py_filename\u001b[0;34m(name, force_win32)\u001b[0m\n\u001b[1;32m    108\u001b[0m     \u001b[0;32melse\u001b[0m\u001b[0;34m:\u001b[0m\u001b[0;34m\u001b[0m\u001b[0;34m\u001b[0m\u001b[0m\n\u001b[0;32m--> 109\u001b[0;31m         \u001b[0;32mraise\u001b[0m \u001b[0mIOError\u001b[0m\u001b[0;34m(\u001b[0m\u001b[0;34m'File `%r` not found.'\u001b[0m \u001b[0;34m%\u001b[0m \u001b[0mname\u001b[0m\u001b[0;34m)\u001b[0m\u001b[0;34m\u001b[0m\u001b[0;34m\u001b[0m\u001b[0m\n\u001b[0m\u001b[1;32m    110\u001b[0m \u001b[0;34m\u001b[0m\u001b[0m\n",
            "\u001b[0;31mOSError\u001b[0m: File `'stuff/fun.py'` not found.",
            "\nDuring handling of the above exception, another exception occurred:\n",
            "\u001b[0;31mException\u001b[0m                                 Traceback (most recent call last)",
            "\u001b[0;32m<ipython-input-11-1e54a20d4ff4>\u001b[0m in \u001b[0;36m<cell line: 0>\u001b[0;34m()\u001b[0m\n\u001b[1;32m      1\u001b[0m \u001b[0;31m# the same results can be obtained using the %run magic, with a slightly different syntax\u001b[0m\u001b[0;34m\u001b[0m\u001b[0;34m\u001b[0m\u001b[0m\n\u001b[0;32m----> 2\u001b[0;31m \u001b[0mget_ipython\u001b[0m\u001b[0;34m(\u001b[0m\u001b[0;34m)\u001b[0m\u001b[0;34m.\u001b[0m\u001b[0mrun_line_magic\u001b[0m\u001b[0;34m(\u001b[0m\u001b[0;34m'run'\u001b[0m\u001b[0;34m,\u001b[0m \u001b[0;34m'stuff/fun.py'\u001b[0m\u001b[0;34m)\u001b[0m\u001b[0;34m\u001b[0m\u001b[0;34m\u001b[0m\u001b[0m\n\u001b[0m",
            "\u001b[0;32m/usr/local/lib/python3.11/dist-packages/IPython/core/interactiveshell.py\u001b[0m in \u001b[0;36mrun_line_magic\u001b[0;34m(self, magic_name, line, _stack_depth)\u001b[0m\n\u001b[1;32m   2416\u001b[0m                 \u001b[0mkwargs\u001b[0m\u001b[0;34m[\u001b[0m\u001b[0;34m'local_ns'\u001b[0m\u001b[0;34m]\u001b[0m \u001b[0;34m=\u001b[0m \u001b[0mself\u001b[0m\u001b[0;34m.\u001b[0m\u001b[0mget_local_scope\u001b[0m\u001b[0;34m(\u001b[0m\u001b[0mstack_depth\u001b[0m\u001b[0;34m)\u001b[0m\u001b[0;34m\u001b[0m\u001b[0;34m\u001b[0m\u001b[0m\n\u001b[1;32m   2417\u001b[0m             \u001b[0;32mwith\u001b[0m \u001b[0mself\u001b[0m\u001b[0;34m.\u001b[0m\u001b[0mbuiltin_trap\u001b[0m\u001b[0;34m:\u001b[0m\u001b[0;34m\u001b[0m\u001b[0;34m\u001b[0m\u001b[0m\n\u001b[0;32m-> 2418\u001b[0;31m                 \u001b[0mresult\u001b[0m \u001b[0;34m=\u001b[0m \u001b[0mfn\u001b[0m\u001b[0;34m(\u001b[0m\u001b[0;34m*\u001b[0m\u001b[0margs\u001b[0m\u001b[0;34m,\u001b[0m \u001b[0;34m**\u001b[0m\u001b[0mkwargs\u001b[0m\u001b[0;34m)\u001b[0m\u001b[0;34m\u001b[0m\u001b[0;34m\u001b[0m\u001b[0m\n\u001b[0m\u001b[1;32m   2419\u001b[0m             \u001b[0;32mreturn\u001b[0m \u001b[0mresult\u001b[0m\u001b[0;34m\u001b[0m\u001b[0;34m\u001b[0m\u001b[0m\n\u001b[1;32m   2420\u001b[0m \u001b[0;34m\u001b[0m\u001b[0m\n",
            "\u001b[0;32m<decorator-gen-52>\u001b[0m in \u001b[0;36mrun\u001b[0;34m(self, parameter_s, runner, file_finder)\u001b[0m\n",
            "\u001b[0;32m/usr/local/lib/python3.11/dist-packages/IPython/core/magic.py\u001b[0m in \u001b[0;36m<lambda>\u001b[0;34m(f, *a, **k)\u001b[0m\n\u001b[1;32m    185\u001b[0m     \u001b[0;31m# but it's overkill for just that one bit of state.\u001b[0m\u001b[0;34m\u001b[0m\u001b[0;34m\u001b[0m\u001b[0m\n\u001b[1;32m    186\u001b[0m     \u001b[0;32mdef\u001b[0m \u001b[0mmagic_deco\u001b[0m\u001b[0;34m(\u001b[0m\u001b[0marg\u001b[0m\u001b[0;34m)\u001b[0m\u001b[0;34m:\u001b[0m\u001b[0;34m\u001b[0m\u001b[0;34m\u001b[0m\u001b[0m\n\u001b[0;32m--> 187\u001b[0;31m         \u001b[0mcall\u001b[0m \u001b[0;34m=\u001b[0m \u001b[0;32mlambda\u001b[0m \u001b[0mf\u001b[0m\u001b[0;34m,\u001b[0m \u001b[0;34m*\u001b[0m\u001b[0ma\u001b[0m\u001b[0;34m,\u001b[0m \u001b[0;34m**\u001b[0m\u001b[0mk\u001b[0m\u001b[0;34m:\u001b[0m \u001b[0mf\u001b[0m\u001b[0;34m(\u001b[0m\u001b[0;34m*\u001b[0m\u001b[0ma\u001b[0m\u001b[0;34m,\u001b[0m \u001b[0;34m**\u001b[0m\u001b[0mk\u001b[0m\u001b[0;34m)\u001b[0m\u001b[0;34m\u001b[0m\u001b[0;34m\u001b[0m\u001b[0m\n\u001b[0m\u001b[1;32m    188\u001b[0m \u001b[0;34m\u001b[0m\u001b[0m\n\u001b[1;32m    189\u001b[0m         \u001b[0;32mif\u001b[0m \u001b[0mcallable\u001b[0m\u001b[0;34m(\u001b[0m\u001b[0marg\u001b[0m\u001b[0;34m)\u001b[0m\u001b[0;34m:\u001b[0m\u001b[0;34m\u001b[0m\u001b[0;34m\u001b[0m\u001b[0m\n",
            "\u001b[0;32m/usr/local/lib/python3.11/dist-packages/IPython/core/magics/execution.py\u001b[0m in \u001b[0;36mrun\u001b[0;34m(self, parameter_s, runner, file_finder)\u001b[0m\n\u001b[1;32m    723\u001b[0m             \u001b[0;32mif\u001b[0m \u001b[0mos\u001b[0m\u001b[0;34m.\u001b[0m\u001b[0mname\u001b[0m \u001b[0;34m==\u001b[0m \u001b[0;34m'nt'\u001b[0m \u001b[0;32mand\u001b[0m \u001b[0mre\u001b[0m\u001b[0;34m.\u001b[0m\u001b[0mmatch\u001b[0m\u001b[0;34m(\u001b[0m\u001b[0;34mr\"^'.*'$\"\u001b[0m\u001b[0;34m,\u001b[0m\u001b[0mfpath\u001b[0m\u001b[0;34m)\u001b[0m\u001b[0;34m:\u001b[0m\u001b[0;34m\u001b[0m\u001b[0;34m\u001b[0m\u001b[0m\n\u001b[1;32m    724\u001b[0m                 \u001b[0mwarn\u001b[0m\u001b[0;34m(\u001b[0m\u001b[0;34m'For Windows, use double quotes to wrap a filename: %run \"mypath\\\\myfile.py\"'\u001b[0m\u001b[0;34m)\u001b[0m\u001b[0;34m\u001b[0m\u001b[0;34m\u001b[0m\u001b[0m\n\u001b[0;32m--> 725\u001b[0;31m             \u001b[0;32mraise\u001b[0m \u001b[0mException\u001b[0m\u001b[0;34m(\u001b[0m\u001b[0mmsg\u001b[0m\u001b[0;34m)\u001b[0m\u001b[0;34m\u001b[0m\u001b[0;34m\u001b[0m\u001b[0m\n\u001b[0m\u001b[1;32m    726\u001b[0m         \u001b[0;32mexcept\u001b[0m \u001b[0mTypeError\u001b[0m\u001b[0;34m:\u001b[0m\u001b[0;34m\u001b[0m\u001b[0;34m\u001b[0m\u001b[0m\n\u001b[1;32m    727\u001b[0m             \u001b[0;32mif\u001b[0m \u001b[0mfpath\u001b[0m \u001b[0;32min\u001b[0m \u001b[0msys\u001b[0m\u001b[0;34m.\u001b[0m\u001b[0mmeta_path\u001b[0m\u001b[0;34m:\u001b[0m\u001b[0;34m\u001b[0m\u001b[0;34m\u001b[0m\u001b[0m\n",
            "\u001b[0;31mException\u001b[0m: File `'stuff/fun.py'` not found."
          ]
        }
      ],
      "source": [
        "# the same results can be obtained using the %run magic, with a slightly different syntax\n",
        "%run stuff/fun.py"
      ]
    },
    {
      "cell_type": "markdown",
      "metadata": {
        "id": "LX8yFX3NYSQN"
      },
      "source": [
        "More magic? Use the `quickref` command to list them all:"
      ]
    },
    {
      "cell_type": "code",
      "execution_count": null,
      "metadata": {
        "id": "cbhCIWt3YSQO"
      },
      "outputs": [],
      "source": [
        "# IPython - Quick Reference Card\n",
        "%quickref"
      ]
    },
    {
      "cell_type": "markdown",
      "metadata": {
        "id": "k5XCew-3YSQO"
      },
      "source": [
        "Even if writing programs with simple text editors is perfectly possible, life is much easier when you used an IDE (Integrated Development Environment) or a text editor on steroids. Desirable features of these environments include syntax highlighting, inspection capabilities, code profiling features, autocomplete, support for interactive shells, package managers and so forth.\n",
        "\n",
        "If you are not participating to the everlasting [editor war](https://en.wikipedia.org/wiki/Editor_war), or if you don't have experience with any IDE, you could consider using [Spyder](https://pythonhosted.org/spyder/), the IDE that comes with Anaconda [[Tutorial](http://www.southampton.ac.uk/~fangohr/blog/spyder-the-python-ide.html)].\n",
        "\n",
        "Some customizable text editors you might also like are [Sublime Text](https://www.sublimetext.com/) or [Atom](https://atom.io/) (Linux, macOS, Windows)."
      ]
    },
    {
      "cell_type": "markdown",
      "metadata": {
        "id": "2YA6GloAYSQO"
      },
      "source": [
        "## Variables\n",
        "\n",
        "Variables are reserved **memory locations** used by a computer program.\n",
        "\n",
        "Each variable is associated with an **identifier** (i.e. a name). Python restricts the naming possibilities of a variable:\n",
        "\n",
        "- identifier characters may be letters, digits or underscores...\n",
        "\n",
        "- ... but the first character cannot be a number\n",
        "\n",
        "- Python keywords cannot be used as identifiers"
      ]
    },
    {
      "cell_type": "code",
      "execution_count": null,
      "metadata": {
        "id": "qKwbEyI5YSQP"
      },
      "outputs": [],
      "source": [
        "# list of Python keywords\n",
        "import keyword\n",
        "print(keyword.kwlist)"
      ]
    },
    {
      "cell_type": "code",
      "execution_count": null,
      "metadata": {
        "id": "3vZRrUI4YSQP"
      },
      "outputs": [],
      "source": [
        "# Nope.\n",
        "None = 10"
      ]
    },
    {
      "cell_type": "code",
      "execution_count": null,
      "metadata": {
        "id": "0reA8G6LYSQQ"
      },
      "outputs": [],
      "source": [
        "# Works, but please don't.\n",
        "none = 10"
      ]
    },
    {
      "cell_type": "code",
      "execution_count": null,
      "metadata": {
        "id": "3HmqM9sMYSQQ"
      },
      "outputs": [],
      "source": [
        "# What's wrong with you?!\n",
        "_None = 10"
      ]
    },
    {
      "cell_type": "markdown",
      "metadata": {
        "id": "iqvWip5OYSQQ"
      },
      "source": [
        "##### Python does not require variables to be declared explicitly\n",
        "\n",
        "Variables are created when you first assign a value to them.\n",
        "\n",
        "The symbol `=` is used to assign values to variables."
      ]
    },
    {
      "cell_type": "code",
      "execution_count": null,
      "metadata": {
        "id": "uWYBwGnPYSQR"
      },
      "outputs": [],
      "source": [
        "# let's associate the value 55 to the variable named \"a_number\"\n",
        "a_number = 55"
      ]
    },
    {
      "cell_type": "code",
      "execution_count": null,
      "metadata": {
        "id": "kqeJ7472YSQR"
      },
      "outputs": [],
      "source": [
        "# the type of value of the variable can be inspected with the function type()\n",
        "type(a_number)"
      ]
    },
    {
      "cell_type": "code",
      "execution_count": null,
      "metadata": {
        "id": "lz4qA1CXYSQS"
      },
      "outputs": [],
      "source": [
        "# the function id() returns the identity of the object's memory address\n",
        "id(a_number)"
      ]
    },
    {
      "cell_type": "markdown",
      "metadata": {
        "id": "SCWIyntiYSQS"
      },
      "source": [
        "##### Variable types can change during the execution of a command"
      ]
    },
    {
      "cell_type": "code",
      "execution_count": null,
      "metadata": {
        "id": "CFiDrT6_YSQT"
      },
      "outputs": [],
      "source": [
        "# Let's convert our numerical variable into a digit (i.e. into text)\n",
        "a_number = str(a_number)\n",
        "a_number\n",
        "type(a_number)"
      ]
    },
    {
      "cell_type": "markdown",
      "metadata": {
        "collapsed": true,
        "id": "qXgEwGupYSQT"
      },
      "source": [
        "## Built-in data types\n",
        "\n",
        "Python natively supports the following basic types:\n",
        "\n",
        "- **Boolean**: *bool*\n",
        "\n",
        "- **None**: *NoneType*\n",
        "\n",
        "- **Numerical**: *int*, *float*, *long*, *complex*\n",
        "\n",
        "- **Sequence**: *string*, *list*, *tuple*\n",
        "\n",
        "- **Set**: *set*, *frozenset*\n",
        "\n",
        "- **Dictionaries**\n"
      ]
    },
    {
      "cell_type": "markdown",
      "metadata": {
        "id": "vqzukuYKYSQU"
      },
      "source": [
        "#### Mutable vs. Immutable objects\n",
        "\n",
        "Python data types can be organized by distinguishing those types whose objects can change after their creation (**Mutable**) and those that do not admit such possibility (**Immutable**)\n",
        "\n",
        "| Immutables|   Mutables|\n",
        "|:---------:|:---------:|\n",
        "|  Numerical|          -|\n",
        "|     String|          -|\n",
        "|      Tuple|       List|\n",
        "|  Frozenset|        Set|\n",
        "|          -| Dictionary|"
      ]
    },
    {
      "cell_type": "markdown",
      "metadata": {
        "id": "5csVZROyYSQU"
      },
      "source": [
        "### NoneType\n",
        "\n",
        "It has one sole value: `None`. It is used to represent the absence of a value.\n"
      ]
    },
    {
      "cell_type": "markdown",
      "metadata": {
        "id": "0CvtsTq0YSQU"
      },
      "source": [
        "### bool\n",
        "\n",
        "Boolean logical values, can be `True` or `False`.\n",
        "\n",
        "To be used to represent the truth or falsity of some condition."
      ]
    },
    {
      "cell_type": "markdown",
      "metadata": {
        "id": "1yAVo63KYSQU"
      },
      "source": [
        "#### Boolean Operators\n",
        "\n",
        "- **and**: conjunction\n",
        "- **or**: inclusive disjunction\n",
        "- **not**: negation"
      ]
    },
    {
      "cell_type": "code",
      "execution_count": null,
      "metadata": {
        "id": "4lyh9QC7YSQU"
      },
      "outputs": [],
      "source": [
        "True and False or True"
      ]
    },
    {
      "cell_type": "markdown",
      "metadata": {
        "id": "va4MEiwwYSQV"
      },
      "source": [
        "### Numerical Types\n",
        "\n",
        "- **int**: integers, e.g. `92`\n",
        "- **long**: long integers of non-limited length, e.g. `15L`\n",
        "- **float**: floating-point numbers, e.g. `8.75638`\n",
        "- **complex**: complex numbers, e.g. `1.23+4.56j`\n",
        "\n",
        "\n"
      ]
    },
    {
      "cell_type": "markdown",
      "metadata": {
        "id": "NrJVov2cYSQV"
      },
      "source": [
        "#### Using Python as a Calculator\n",
        "\n",
        "The simplest way to perform calculations with Python is by using the interactive shell as a fancy calculator.\n",
        "\n",
        "Some of the operations supported by all the numeric types are:"
      ]
    },
    {
      "cell_type": "code",
      "execution_count": null,
      "metadata": {
        "id": "5jsSH-s8YSQV"
      },
      "outputs": [],
      "source": [
        "# addition\n",
        "3 + 5"
      ]
    },
    {
      "cell_type": "code",
      "execution_count": null,
      "metadata": {
        "id": "jVFW6k_QYSQW"
      },
      "outputs": [],
      "source": [
        "# difference\n",
        "9 - 5"
      ]
    },
    {
      "cell_type": "code",
      "execution_count": null,
      "metadata": {
        "id": "jBPp66CEYSQW"
      },
      "outputs": [],
      "source": [
        "# product\n",
        "9 * 50"
      ]
    },
    {
      "cell_type": "code",
      "execution_count": null,
      "metadata": {
        "id": "CMRx1MGFYSQY"
      },
      "outputs": [],
      "source": [
        "# quotient\n",
        "9 / 2"
      ]
    },
    {
      "cell_type": "markdown",
      "metadata": {
        "id": "LW_3aLHHYSQZ"
      },
      "source": [
        "> Note: In Python 2.x (but not in Python 3.x) integer division truncates the remainder and returns an integer (i.e. it calculates the so-called \"floored\" quotient)."
      ]
    },
    {
      "cell_type": "code",
      "execution_count": null,
      "metadata": {
        "id": "5toAR9YSYSQZ"
      },
      "outputs": [],
      "source": [
        "# Floor division gives us the default behavior of division in Python 2\n",
        "9 // 2"
      ]
    },
    {
      "cell_type": "code",
      "execution_count": null,
      "metadata": {
        "id": "hz2tbBaOYSQZ"
      },
      "outputs": [],
      "source": [
        "# the remainder of the floored quotient\n",
        "9 % 2"
      ]
    },
    {
      "cell_type": "code",
      "execution_count": null,
      "metadata": {
        "id": "tfbGJts9YSQa"
      },
      "outputs": [],
      "source": [
        "# x to the power of y\n",
        "3 ** 2"
      ]
    },
    {
      "cell_type": "code",
      "execution_count": null,
      "metadata": {
        "id": "oQWlz8RbYSQa"
      },
      "outputs": [],
      "source": [
        "# Round a number to a given precision in decimal digits (default 0 digits)\n",
        "round(1.765432, 3)"
      ]
    },
    {
      "cell_type": "markdown",
      "metadata": {
        "id": "Hn9C1YXRYSQa"
      },
      "source": [
        "---"
      ]
    },
    {
      "cell_type": "markdown",
      "metadata": {
        "id": "8S0i69QIYSQa"
      },
      "source": [
        "### Quiz\n",
        "\n",
        "Calculate the number of seconds we're going to spend in this classroom together."
      ]
    },
    {
      "cell_type": "code",
      "execution_count": null,
      "metadata": {
        "id": "nMKyUVJYYSQa"
      },
      "outputs": [],
      "source": [
        "number_of_seconds = 60 * 60\n",
        "print(number_of_seconds)"
      ]
    },
    {
      "cell_type": "markdown",
      "metadata": {
        "id": "tHlTMdcJYSQb"
      },
      "source": [
        "---"
      ]
    },
    {
      "cell_type": "markdown",
      "metadata": {
        "id": "DB4macD4YSQb"
      },
      "source": [
        "While the previous operators produce new variables, the following perform the operation **in-place**.\n",
        "\n",
        "That is, the variable itself is changed in the result of the process."
      ]
    },
    {
      "cell_type": "code",
      "execution_count": null,
      "metadata": {
        "id": "pChlWTP6YSQb"
      },
      "outputs": [],
      "source": [
        "# our variable\n",
        "a_number = 8"
      ]
    },
    {
      "cell_type": "code",
      "execution_count": null,
      "metadata": {
        "id": "iCiwjuetYSQb"
      },
      "outputs": [],
      "source": [
        "# IN PLACE addition\n",
        "a_number += 3\n",
        "a_number"
      ]
    },
    {
      "cell_type": "code",
      "execution_count": null,
      "metadata": {
        "id": "YrwyQd7MYSQb"
      },
      "outputs": [],
      "source": [
        "# IN PLACE subtraction\n",
        "a_number -= 3\n",
        "a_number"
      ]
    },
    {
      "cell_type": "code",
      "execution_count": null,
      "metadata": {
        "id": "0ErHsHcyYSQb"
      },
      "outputs": [],
      "source": [
        "# IN PLACE multiplication\n",
        "a_number *= 3\n",
        "a_number"
      ]
    },
    {
      "cell_type": "code",
      "execution_count": 12,
      "metadata": {
        "id": "M8l7RtUzYSQc",
        "outputId": "40214ef1-4e95-4329-9d9f-79cc3ef0e57c",
        "colab": {
          "base_uri": "https://localhost:8080/",
          "height": 176
        }
      },
      "outputs": [
        {
          "output_type": "error",
          "ename": "NameError",
          "evalue": "name 'a_number' is not defined",
          "traceback": [
            "\u001b[0;31m---------------------------------------------------------------------------\u001b[0m",
            "\u001b[0;31mNameError\u001b[0m                                 Traceback (most recent call last)",
            "\u001b[0;32m<ipython-input-12-d099cfd5e84d>\u001b[0m in \u001b[0;36m<cell line: 0>\u001b[0;34m()\u001b[0m\n\u001b[1;32m      1\u001b[0m \u001b[0;31m# IN PLACE division\u001b[0m\u001b[0;34m\u001b[0m\u001b[0;34m\u001b[0m\u001b[0m\n\u001b[0;32m----> 2\u001b[0;31m \u001b[0ma_number\u001b[0m \u001b[0;34m/=\u001b[0m \u001b[0;36m3\u001b[0m\u001b[0;34m\u001b[0m\u001b[0;34m\u001b[0m\u001b[0m\n\u001b[0m\u001b[1;32m      3\u001b[0m \u001b[0ma_number\u001b[0m\u001b[0;34m\u001b[0m\u001b[0;34m\u001b[0m\u001b[0m\n",
            "\u001b[0;31mNameError\u001b[0m: name 'a_number' is not defined"
          ]
        }
      ],
      "source": [
        "# IN PLACE division\n",
        "a_number /= 3\n",
        "a_number"
      ]
    },
    {
      "cell_type": "code",
      "execution_count": null,
      "metadata": {
        "id": "bve40B7JYSQc"
      },
      "outputs": [],
      "source": [
        "# IN PLACE modulus\n",
        "a_number %= 3\n",
        "a_number"
      ]
    },
    {
      "cell_type": "markdown",
      "metadata": {
        "id": "7ufV4nVXYSQc"
      },
      "source": [
        "### Relational Operators\n",
        "\n",
        "Comparisons are supported by all objects. The main comparison operators are:\n",
        "\n",
        "|   Operator|                Semantics|\n",
        "|:---------:|:-----------------------:|\n",
        "|         ==|                    equal|\n",
        "|         !=|                not equal|\n",
        "|          <|                less-than|\n",
        "|         <=|    less-than or equal to|\n",
        "|          >|             greater-then|\n",
        "|         >=| greater-then or equal to|\n",
        "|         is| object identity|\n",
        "|         is not| negated object identity|\n",
        "\n",
        "Relational operators are used to **test conditions**, and the output is a boolean value"
      ]
    },
    {
      "cell_type": "code",
      "execution_count": null,
      "metadata": {
        "id": "8UMRmIeiYSQc"
      },
      "outputs": [],
      "source": [
        "# is 7 bigger than 9?\n",
        "7 > 9"
      ]
    },
    {
      "cell_type": "markdown",
      "metadata": {
        "id": "jiSRPMQDYSQd"
      },
      "source": [
        "NOTE: `is` checks if two things **are the same object**, not just if they are equal"
      ]
    },
    {
      "cell_type": "code",
      "execution_count": null,
      "metadata": {
        "id": "AhOEq7pgYSQd"
      },
      "outputs": [],
      "source": [
        "# the value 0 (of any numerical type) is considered to be False, but 0 is not False\n",
        "print(False == 0)\n",
        "print(False is 0)\n",
        "# PS if you get a SyntaxWarning, this was introduced in 3.8 to help avoid mistaking == for is"
      ]
    },
    {
      "cell_type": "markdown",
      "metadata": {
        "id": "yDThUReFYSQd"
      },
      "source": [
        "---"
      ]
    },
    {
      "cell_type": "markdown",
      "metadata": {
        "id": "WFannVeMYSQd"
      },
      "source": [
        "### Quiz\n",
        "\n",
        "use the function `id()` to explain the behavior of `is`"
      ]
    },
    {
      "cell_type": "code",
      "execution_count": 118,
      "metadata": {
        "id": "7Y_zcMTOYSQd",
        "colab": {
          "base_uri": "https://localhost:8080/"
        },
        "outputId": "aacfbd9d-4f39-4cd6-ab5c-ec31a38eae0f"
      },
      "outputs": [
        {
          "output_type": "stream",
          "name": "stdout",
          "text": [
            "True\n"
          ]
        },
        {
          "output_type": "execute_result",
          "data": {
            "text/plain": [
              "10750824"
            ]
          },
          "metadata": {},
          "execution_count": 118
        }
      ],
      "source": [
        "print(False == 0)\n",
        "id(0)"
      ]
    },
    {
      "cell_type": "markdown",
      "metadata": {
        "id": "CeQ8cRiIYSQd"
      },
      "source": [
        "---"
      ]
    },
    {
      "cell_type": "markdown",
      "metadata": {
        "id": "NvnEa3QgYSQe"
      },
      "source": [
        "## Sequences\n",
        "\n",
        "We will focus on three types of sequences: **strings**, **lists** and **tuples** (see the [documentation](https://docs.python.org/2/library/stdtypes.html#sequence-types-str-unicode-list-tuple-bytearray-buffer-xrange) for the full list).\n",
        "\n",
        "Most sequence types support the following operations (where `s` and `t` are sequences, `n`, `i` and `j` integers):\n",
        "\n",
        "|   Operation|                Result|\n",
        "|:----------:|:-----------------------:|\n",
        "|      x in s|  True if an item of s is equal to x|\n",
        "|  x not in s|  False if an item of s is equal to x|\n",
        "|       s + t| Concatenation of s and t|\n",
        "|       s * n|   add s to itself n times (negative n are treated as 0)|\n",
        "|        s[i]|\tith item of s, origin 0|\n",
        "|      s[i:j]|   slice of s from i to j|\n",
        "|    s[i:j:k]| slice of s from i to j with step k|\n",
        "|      len(s)| length of s|\n",
        "|      min(s)| smallest item of s|\n",
        "|      max(s)| largest item of s|\n",
        "|  s.index(x)| index of the first occurrence of x in s |\n",
        "|  s.count(x)| total number of occurrences of x in s|"
      ]
    },
    {
      "cell_type": "markdown",
      "metadata": {
        "id": "--oT_9VbYSQe"
      },
      "source": [
        "### Lists\n",
        "\n",
        "\n",
        "Lists are **ordered** **mutable** sequences of **heterogeneous** elements.\n",
        "\n",
        "In the Python language, lists are defined by square brackets `[]` and their elements are separated by commas."
      ]
    },
    {
      "cell_type": "code",
      "execution_count": 119,
      "metadata": {
        "id": "UjX9UZiCYSQe",
        "outputId": "02a2cee9-484b-49b2-9824-efa7e74b49cd",
        "colab": {
          "base_uri": "https://localhost:8080/"
        }
      },
      "outputs": [
        {
          "output_type": "stream",
          "name": "stdout",
          "text": [
            "['text', 23, 92, 'another_text', [1, 2, 3]]\n"
          ]
        }
      ],
      "source": [
        "# lists can contain different types of objects (even another list like [1,2,3])\n",
        "demo_list = [\"text\", 23, 92, \"another_text\", [1,2,3]]\n",
        "print(demo_list)"
      ]
    },
    {
      "cell_type": "code",
      "execution_count": 120,
      "metadata": {
        "id": "XZmrFW4WYSQe",
        "outputId": "72bbd44b-3aa3-4026-ccd2-74c629415243",
        "colab": {
          "base_uri": "https://localhost:8080/"
        }
      },
      "outputs": [
        {
          "output_type": "execute_result",
          "data": {
            "text/plain": [
              "5"
            ]
          },
          "metadata": {},
          "execution_count": 120
        }
      ],
      "source": [
        "# len() returns the length of the list\n",
        "len(demo_list)"
      ]
    },
    {
      "cell_type": "code",
      "execution_count": 121,
      "metadata": {
        "id": "3JCTn_3QYSQe",
        "outputId": "35e91eba-4cc6-47d0-a184-16a6097cce21",
        "colab": {
          "base_uri": "https://localhost:8080/"
        }
      },
      "outputs": [
        {
          "output_type": "execute_result",
          "data": {
            "text/plain": [
              "True"
            ]
          },
          "metadata": {},
          "execution_count": 121
        }
      ],
      "source": [
        "# membership verification (return a boolean value)\n",
        "23 in demo_list"
      ]
    },
    {
      "cell_type": "code",
      "execution_count": 122,
      "metadata": {
        "id": "t_c7bjXJYSQf",
        "outputId": "fd72352b-af30-4849-bb07-40870cb5642c",
        "colab": {
          "base_uri": "https://localhost:8080/"
        }
      },
      "outputs": [
        {
          "output_type": "execute_result",
          "data": {
            "text/plain": [
              "['text',\n",
              " 23,\n",
              " 92,\n",
              " 'another_text',\n",
              " [1, 2, 3],\n",
              " 'text',\n",
              " 23,\n",
              " 92,\n",
              " 'another_text',\n",
              " [1, 2, 3]]"
            ]
          },
          "metadata": {},
          "execution_count": 122
        }
      ],
      "source": [
        "# concatenation\n",
        "new_demo_list = demo_list + demo_list\n",
        "new_demo_list"
      ]
    },
    {
      "cell_type": "code",
      "execution_count": 123,
      "metadata": {
        "id": "4_7998nPYSQf",
        "outputId": "a79c88ac-e12f-4c84-d1ad-b515a7eeb71c",
        "colab": {
          "base_uri": "https://localhost:8080/"
        }
      },
      "outputs": [
        {
          "output_type": "execute_result",
          "data": {
            "text/plain": [
              "['text',\n",
              " 23,\n",
              " 92,\n",
              " 'another_text',\n",
              " [1, 2, 3],\n",
              " 'text',\n",
              " 23,\n",
              " 92,\n",
              " 'another_text',\n",
              " [1, 2, 3],\n",
              " 'text',\n",
              " 23,\n",
              " 92,\n",
              " 'another_text',\n",
              " [1, 2, 3]]"
            ]
          },
          "metadata": {},
          "execution_count": 123
        }
      ],
      "source": [
        "# repetition\n",
        "new_demo_list = demo_list * 3\n",
        "new_demo_list"
      ]
    },
    {
      "cell_type": "markdown",
      "metadata": {
        "id": "a4bQz5yrYSQf"
      },
      "source": [
        "#### Lists are ordered"
      ]
    },
    {
      "cell_type": "code",
      "execution_count": 124,
      "metadata": {
        "id": "fDpxm1MoYSQg",
        "outputId": "32b57a16-f45e-4550-f3aa-7af7b5309065",
        "colab": {
          "base_uri": "https://localhost:8080/",
          "height": 35
        }
      },
      "outputs": [
        {
          "output_type": "execute_result",
          "data": {
            "text/plain": [
              "'text'"
            ],
            "application/vnd.google.colaboratory.intrinsic+json": {
              "type": "string"
            }
          },
          "metadata": {},
          "execution_count": 124
        }
      ],
      "source": [
        "# lists are ordered, elements can be recalled by using their index (remember that the index of the first element is 0)\n",
        "demo_list[0]"
      ]
    },
    {
      "cell_type": "code",
      "execution_count": 125,
      "metadata": {
        "id": "MmK8xyCNYSQg",
        "outputId": "99d71cb6-6c58-4a7c-bfc5-716abfd8b74b",
        "colab": {
          "base_uri": "https://localhost:8080/"
        }
      },
      "outputs": [
        {
          "output_type": "execute_result",
          "data": {
            "text/plain": [
              "[1, 2, 3]"
            ]
          },
          "metadata": {},
          "execution_count": 125
        }
      ],
      "source": [
        "# the index \"-1\" is associated with the last element\n",
        "demo_list[-1]"
      ]
    },
    {
      "cell_type": "code",
      "execution_count": 126,
      "metadata": {
        "id": "VtfF189JYSQg",
        "outputId": "a994ae77-585c-465d-d26d-bfb6dfec80f5",
        "colab": {
          "base_uri": "https://localhost:8080/"
        }
      },
      "outputs": [
        {
          "output_type": "execute_result",
          "data": {
            "text/plain": [
              "1"
            ]
          },
          "metadata": {},
          "execution_count": 126
        }
      ],
      "source": [
        "# check the position of the element \"23\"\n",
        "demo_list.index(23)"
      ]
    },
    {
      "cell_type": "markdown",
      "metadata": {
        "id": "FpC-1S7MYSQg"
      },
      "source": [
        "#### Slicing\n",
        "\n",
        "\n",
        "Slicing is a **computationally fast** way to extract a portion of a sequence in order to create a new sequence.\n",
        "\n",
        "Slicing Notation works in the following way:\n",
        "\n",
        "\n",
        "```python\n",
        "sequence[start:stop:step]\n",
        "```"
      ]
    },
    {
      "cell_type": "markdown",
      "metadata": {
        "id": "FQE-RkWLYSQg"
      },
      "source": [
        "##### Slicing rules\n",
        "\n",
        "- The slice of the sequence `s` from `start` to `stop` is defined as the sequence of items with index `k` such that `start` <= `k` < `stop`.\n",
        "\n",
        "\n",
        "- If `start` or `stop` is greater than len(`s`), use len(`s`).\n",
        "\n",
        "\n",
        "- If `start` is omitted or `None`, use 0.\n",
        "\n",
        "\n",
        "- If `stop` is omitted or `None`, use len(`s`).\n",
        "\n",
        "\n",
        "- If `start` or `stop` is negative, the index is relative to the end of sequence."
      ]
    },
    {
      "cell_type": "markdown",
      "metadata": {
        "id": "sNjPy2hCYSQh"
      },
      "source": [
        "![alt text](https://github.com/bloemj/AUC_TMCI_2022/blob/main/notebooks/images/list-slicing.png?raw=1)"
      ]
    },
    {
      "cell_type": "code",
      "execution_count": 127,
      "metadata": {
        "id": "3DELgASyYSQh",
        "outputId": "a0b23fa2-7b78-416c-9961-f72ae7f6d9ab",
        "colab": {
          "base_uri": "https://localhost:8080/"
        }
      },
      "outputs": [
        {
          "output_type": "stream",
          "name": "stdout",
          "text": [
            "['text', 23, 92, 'another_text', [1, 2, 3]]\n"
          ]
        }
      ],
      "source": [
        "print(demo_list)"
      ]
    },
    {
      "cell_type": "code",
      "execution_count": 128,
      "metadata": {
        "id": "gQRGvcwJYSQh",
        "outputId": "b3a01183-9b4c-4164-f78e-3c217eeb0188",
        "colab": {
          "base_uri": "https://localhost:8080/"
        }
      },
      "outputs": [
        {
          "output_type": "execute_result",
          "data": {
            "text/plain": [
              "[23, 92]"
            ]
          },
          "metadata": {},
          "execution_count": 128
        }
      ],
      "source": [
        "# slicing with positive indices\n",
        "demo_list[1:3]"
      ]
    },
    {
      "cell_type": "code",
      "execution_count": 129,
      "metadata": {
        "id": "TbR6NrZ5YSQh",
        "outputId": "9fb38943-6f29-4a72-dede-ed7989ecb5c7",
        "colab": {
          "base_uri": "https://localhost:8080/"
        }
      },
      "outputs": [
        {
          "output_type": "execute_result",
          "data": {
            "text/plain": [
              "[92, 'another_text']"
            ]
          },
          "metadata": {},
          "execution_count": 129
        }
      ],
      "source": [
        "# slicing works with negative indices as well\n",
        "demo_list[-3:-1]"
      ]
    },
    {
      "cell_type": "code",
      "execution_count": 130,
      "metadata": {
        "id": "_LKCAtutYSQh",
        "outputId": "058fa41e-4e0e-463d-8bac-f89e7dcebf36",
        "colab": {
          "base_uri": "https://localhost:8080/"
        }
      },
      "outputs": [
        {
          "output_type": "execute_result",
          "data": {
            "text/plain": [
              "[23, 92]"
            ]
          },
          "metadata": {},
          "execution_count": 130
        }
      ],
      "source": [
        "# slicing works with a mixture of positive and negative indices\n",
        "demo_list[1:-2]"
      ]
    },
    {
      "cell_type": "code",
      "execution_count": 131,
      "metadata": {
        "id": "B4bYh2ifYSQi",
        "outputId": "741888cb-c983-4426-9f35-173dfca5fa72",
        "colab": {
          "base_uri": "https://localhost:8080/"
        }
      },
      "outputs": [
        {
          "output_type": "execute_result",
          "data": {
            "text/plain": [
              "[92, 'another_text', [1, 2, 3]]"
            ]
          },
          "metadata": {},
          "execution_count": 131
        }
      ],
      "source": [
        "# if an index is omitted, Python reaches the first or the last element of the list\n",
        "demo_list[2:]"
      ]
    },
    {
      "cell_type": "code",
      "execution_count": 132,
      "metadata": {
        "id": "S1y3zBmmYSQi",
        "outputId": "38974117-ddda-425f-d75c-664cec9f9997",
        "colab": {
          "base_uri": "https://localhost:8080/"
        }
      },
      "outputs": [
        {
          "output_type": "execute_result",
          "data": {
            "text/plain": [
              "['text', 23, 92]"
            ]
          },
          "metadata": {},
          "execution_count": 132
        }
      ],
      "source": [
        "# the same as above, with the first index omitted\n",
        "demo_list[:3]"
      ]
    },
    {
      "cell_type": "code",
      "execution_count": 133,
      "metadata": {
        "id": "NWT6UfO-YSQi",
        "outputId": "8cf0e72d-a171-42c5-96fe-50e71f8c0138",
        "colab": {
          "base_uri": "https://localhost:8080/"
        }
      },
      "outputs": [
        {
          "output_type": "execute_result",
          "data": {
            "text/plain": [
              "[23, 'another_text']"
            ]
          },
          "metadata": {},
          "execution_count": 133
        }
      ],
      "source": [
        "# slicing with steps\n",
        "demo_list[1::2]"
      ]
    },
    {
      "cell_type": "markdown",
      "metadata": {
        "id": "SOUWkL-3YSQi"
      },
      "source": [
        "---"
      ]
    },
    {
      "cell_type": "markdown",
      "metadata": {
        "id": "UiqS8nwDYSQi"
      },
      "source": [
        "### Quiz\n",
        "\n",
        "The following code creates a list whose length is a-priori unknown. Extract:\n",
        "\n",
        "- the last element of the list by using a positive index\n",
        "\n",
        "\n",
        "- the first element of the list by using a negative index"
      ]
    },
    {
      "cell_type": "code",
      "execution_count": 134,
      "metadata": {
        "id": "-izJy8eMYSQi",
        "outputId": "b067d5bd-2be9-43fb-f4cd-49253c3a10ba",
        "colab": {
          "base_uri": "https://localhost:8080/"
        }
      },
      "outputs": [
        {
          "output_type": "stream",
          "name": "stdout",
          "text": [
            "[98 49 62 53 45 53 92 23 59 94 77 60]\n"
          ]
        }
      ],
      "source": [
        "import numpy as np\n",
        "import random\n",
        "\n",
        "random_length_list = np.random.choice(99, random.randint(8,12))\n",
        "print(random_length_list)"
      ]
    },
    {
      "cell_type": "code",
      "execution_count": 135,
      "metadata": {
        "id": "-0BtUM0VYSQj",
        "colab": {
          "base_uri": "https://localhost:8080/"
        },
        "outputId": "5d7f13d4-d891-4080-9f8e-e03851929ae2"
      },
      "outputs": [
        {
          "output_type": "execute_result",
          "data": {
            "text/plain": [
              "98"
            ]
          },
          "metadata": {},
          "execution_count": 135
        }
      ],
      "source": [
        "len(random_length_list)\n",
        "random_length_list[len(random_length_list)-1]\n",
        "random_length_list[-len(random_length_list)]\n"
      ]
    },
    {
      "cell_type": "markdown",
      "metadata": {
        "id": "rEzcDJN-YSQj"
      },
      "source": [
        "---"
      ]
    },
    {
      "cell_type": "markdown",
      "metadata": {
        "id": "NEUf_7OQYSQj"
      },
      "source": [
        "#### Lists are mutable\n",
        "\n",
        "Lists methods allows you to manipulate the elements stored in the list quickly and effectively."
      ]
    },
    {
      "cell_type": "code",
      "execution_count": 136,
      "metadata": {
        "id": "HnnHIduhYSQj",
        "outputId": "c4b575bd-aadf-49b1-ed9a-700318eed8dd",
        "colab": {
          "base_uri": "https://localhost:8080/"
        }
      },
      "outputs": [
        {
          "output_type": "stream",
          "name": "stdout",
          "text": [
            "['text', 23, 92, 'another_text', [1, 2, 3], 'appended']\n"
          ]
        }
      ],
      "source": [
        "# the method .append() allows you to add an element at the end of the list\n",
        "# Equivalent to `demo_list[len(demo_list):] = [\"appended\"]`\n",
        "demo_list.append(\"appended\")\n",
        "print(demo_list)"
      ]
    },
    {
      "cell_type": "code",
      "execution_count": 137,
      "metadata": {
        "id": "7dBZN2O7YSQj",
        "outputId": "77e670da-c9dd-4939-f261-ab7073dc4b21",
        "colab": {
          "base_uri": "https://localhost:8080/"
        }
      },
      "outputs": [
        {
          "output_type": "stream",
          "name": "stdout",
          "text": [
            "['text', 23, 92, 'another_text', [1, 2, 3], 'appended', 'elements', 'of', 'another', 'list']\n"
          ]
        }
      ],
      "source": [
        "# the method .extend() allows you to add all the elements of a second list\n",
        "demo_list.extend([\"elements\",\"of\",\"another\",\"list\"])\n",
        "print(demo_list)"
      ]
    },
    {
      "cell_type": "code",
      "execution_count": 138,
      "metadata": {
        "id": "coMww0xpYSQj",
        "outputId": "04e439b1-3908-4142-946d-af27429ef8e7",
        "colab": {
          "base_uri": "https://localhost:8080/"
        }
      },
      "outputs": [
        {
          "output_type": "stream",
          "name": "stdout",
          "text": [
            "['text', 23, 92, 'another_text', [1, 2, 3], 'elements', 'of', 'another', 'list']\n"
          ]
        }
      ],
      "source": [
        "# the method .remove() allows you to remove a given elements from a list\n",
        "demo_list.remove(\"appended\")\n",
        "print(demo_list)"
      ]
    },
    {
      "cell_type": "markdown",
      "metadata": {
        "id": "GrrtJxwTYSQk"
      },
      "source": [
        "**Bonus question: What happens if the list contained duplicates of the removed element?**"
      ]
    },
    {
      "cell_type": "code",
      "execution_count": 139,
      "metadata": {
        "id": "u3_r4ZxyYSQk",
        "outputId": "ade3f1fb-eec5-4fa0-de51-cfed8a794a31",
        "colab": {
          "base_uri": "https://localhost:8080/"
        }
      },
      "outputs": [
        {
          "output_type": "stream",
          "name": "stdout",
          "text": [
            "['list', 'another', 'of', 'elements', [1, 2, 3], 'another_text', 92, 23, 'text']\n"
          ]
        }
      ],
      "source": [
        "# the method .reverse() reverses a list IN PLACE (i.e. the original list is modified)\n",
        "demo_list.reverse()\n",
        "print(demo_list)"
      ]
    },
    {
      "cell_type": "code",
      "execution_count": 140,
      "metadata": {
        "id": "ersTAl0gYSQk",
        "outputId": "f531bc68-391e-4d56-af56-d1d588d3ead0",
        "colab": {
          "base_uri": "https://localhost:8080/"
        }
      },
      "outputs": [
        {
          "output_type": "stream",
          "name": "stdout",
          "text": [
            "['list', 'new_text', 7, 38, 'elements', [1, 2, 3], 'another_text', 92, 23, 'text']\n"
          ]
        }
      ],
      "source": [
        "# slicing can be used also to replace elements in a list\n",
        "demo_list[1:3] = [\"new_text\", 7, 38]\n",
        "print(demo_list)"
      ]
    },
    {
      "cell_type": "code",
      "execution_count": 141,
      "metadata": {
        "id": "HEzswr1FYSQk",
        "outputId": "f5b5ad88-3d60-4e12-f799-f2b2d9c37929",
        "colab": {
          "base_uri": "https://localhost:8080/"
        }
      },
      "outputs": [
        {
          "output_type": "stream",
          "name": "stdout",
          "text": [
            "['list', 'new_text', 7, 38, 'another_text', 92, 23, 'text']\n"
          ]
        }
      ],
      "source": [
        "# slicing can be used to delete elements\n",
        "demo_list[4:6] = []\n",
        "print(demo_list)"
      ]
    },
    {
      "cell_type": "code",
      "execution_count": 142,
      "metadata": {
        "id": "5DqrzwNJYSQk",
        "outputId": "454e8947-9d0d-4bfc-fca0-32076a0b1c90",
        "colab": {
          "base_uri": "https://localhost:8080/"
        }
      },
      "outputs": [
        {
          "output_type": "execute_result",
          "data": {
            "text/plain": [
              "[1, 8, 9, 33, 56, 220]"
            ]
          },
          "metadata": {},
          "execution_count": 142
        }
      ],
      "source": [
        "# the method .sort() order a list (NOTE: the list elements must be of the same type)\n",
        "homogeneous_list = [1,56,33,8,220,9]\n",
        "homogeneous_list.sort()\n",
        "homogeneous_list"
      ]
    },
    {
      "cell_type": "code",
      "execution_count": 143,
      "metadata": {
        "id": "f4uwhfSFYSQk",
        "outputId": "ca8b0976-5457-45d3-d1bc-a3a628db74c6",
        "colab": {
          "base_uri": "https://localhost:8080/"
        }
      },
      "outputs": [
        {
          "output_type": "execute_result",
          "data": {
            "text/plain": [
              "['ant', 'canary', 'elephant', 'hippo', 'kangaroo', 'narwhal', 'raccoon', 'yak']"
            ]
          },
          "metadata": {},
          "execution_count": 143
        }
      ],
      "source": [
        "# lists of strings can be sorted as well\n",
        "homogeneous_list = [\"canary\", \"hippo\", \"kangaroo\", \"narwhal\", \"elephant\", \"raccoon\", \"yak\", \"ant\"]\n",
        "homogeneous_list.sort()\n",
        "homogeneous_list"
      ]
    },
    {
      "cell_type": "markdown",
      "metadata": {
        "id": "-D8RAWnxYSQl"
      },
      "source": [
        "---"
      ]
    },
    {
      "cell_type": "markdown",
      "metadata": {
        "id": "_v1bPYwvYSQl"
      },
      "source": [
        "### Quiz\n",
        "\n",
        "Explain the sorting of the following list:"
      ]
    },
    {
      "cell_type": "code",
      "execution_count": 144,
      "metadata": {
        "id": "2JQo1xvnYSQl",
        "outputId": "6b70412c-7a48-45b5-d871-fa165555c81f",
        "colab": {
          "base_uri": "https://localhost:8080/"
        }
      },
      "outputs": [
        {
          "output_type": "execute_result",
          "data": {
            "text/plain": [
              "['1', '220', '33', '56', '8', '9']"
            ]
          },
          "metadata": {},
          "execution_count": 144
        }
      ],
      "source": [
        "homogeneous_list =[\"1\", \"56\", \"33\", \"8\", \"220\", \"9\"]\n",
        "homogeneous_list.sort()\n",
        "homogeneous_list"
      ]
    },
    {
      "cell_type": "markdown",
      "metadata": {
        "id": "_rF8IPQ9YSQl"
      },
      "source": [
        "---"
      ]
    },
    {
      "cell_type": "markdown",
      "metadata": {
        "collapsed": true,
        "id": "OVR0YkKWYSQl"
      },
      "source": [
        "#### Lists of numbers\n",
        "\n",
        "Lists of numbers can be manipulated by additional functions, among which **max()**, **min()** and **sum**"
      ]
    },
    {
      "cell_type": "code",
      "execution_count": 145,
      "metadata": {
        "id": "NluZ0JmRYSQm",
        "outputId": "f30a3cbd-a2fa-4382-a8ff-53fe4f002b09",
        "colab": {
          "base_uri": "https://localhost:8080/"
        }
      },
      "outputs": [
        {
          "output_type": "stream",
          "name": "stdout",
          "text": [
            "9\n",
            "2\n",
            "31\n"
          ]
        }
      ],
      "source": [
        "some_numbers = [4, 8, 2, 6, 2, 9]\n",
        "print(max(some_numbers))\n",
        "print(min(some_numbers))\n",
        "print(sum(some_numbers))"
      ]
    },
    {
      "cell_type": "markdown",
      "metadata": {
        "id": "QHGc80qbYSQm"
      },
      "source": [
        "---"
      ]
    },
    {
      "cell_type": "markdown",
      "metadata": {
        "collapsed": true,
        "id": "vwjIDFu0YSQm"
      },
      "source": [
        "### Quiz\n",
        "\n",
        "Compute the average of `some_numbers`:"
      ]
    },
    {
      "cell_type": "code",
      "execution_count": 146,
      "metadata": {
        "id": "NpJmoJu1YSQm",
        "colab": {
          "base_uri": "https://localhost:8080/"
        },
        "outputId": "d80b5501-eaf5-4633-8766-fceb8b20a58b"
      },
      "outputs": [
        {
          "output_type": "stream",
          "name": "stdout",
          "text": [
            "5.166666666666667\n"
          ]
        }
      ],
      "source": [
        "print(sum(some_numbers)/len(some_numbers))"
      ]
    },
    {
      "cell_type": "markdown",
      "metadata": {
        "collapsed": true,
        "id": "_Q4NTHkCYSQm"
      },
      "source": [
        "---"
      ]
    },
    {
      "cell_type": "markdown",
      "metadata": {
        "id": "PwoBr0aRYSQn"
      },
      "source": [
        "### Tuples\n",
        "\n",
        "Tuples are the **immutable** counterpart of the lists.\n",
        "\n",
        "They are defined by round brackets `()` and they mainly differ from the list in that they do not accept those methods that tries to manipulate its elements.\n"
      ]
    },
    {
      "cell_type": "code",
      "execution_count": 147,
      "metadata": {
        "id": "TKv40hdXYSQn",
        "outputId": "ce2f7f0e-90d2-4eb0-9b03-b731eb9463fc",
        "colab": {
          "base_uri": "https://localhost:8080/"
        }
      },
      "outputs": [
        {
          "output_type": "stream",
          "name": "stdout",
          "text": [
            "('text', 23, 92, 'another_text', [1, 2, 3])\n"
          ]
        }
      ],
      "source": [
        "# tuples can contain different types of objects (even another list like [1,2,3])\n",
        "demo_tuple = (\"text\", 23, 92, \"another_text\", [1,2,3])\n",
        "print(demo_tuple)"
      ]
    },
    {
      "cell_type": "code",
      "execution_count": 148,
      "metadata": {
        "id": "7IEUMSmDYSQn",
        "outputId": "efa0e593-4643-49e7-894a-b689cd869956",
        "colab": {
          "base_uri": "https://localhost:8080/"
        }
      },
      "outputs": [
        {
          "output_type": "execute_result",
          "data": {
            "text/plain": [
              "(23, 92)"
            ]
          },
          "metadata": {},
          "execution_count": 148
        }
      ],
      "source": [
        "# elements can be accessed on the basis of their index...\n",
        "demo_tuple[1:3]"
      ]
    },
    {
      "cell_type": "code",
      "execution_count": 149,
      "metadata": {
        "id": "v93N7SX7YSQo",
        "outputId": "f38e0c98-82ae-4942-b55a-1cc089d8d0ce",
        "colab": {
          "base_uri": "https://localhost:8080/"
        }
      },
      "outputs": [
        {
          "output_type": "stream",
          "name": "stdout",
          "text": [
            "'tuple' object does not support item assignment\n"
          ]
        }
      ],
      "source": [
        "# ...but they cannot be replaces\n",
        "try:\n",
        "    demo_tuple[1] = 2\n",
        "except TypeError as e:\n",
        "    print(e)"
      ]
    },
    {
      "cell_type": "markdown",
      "metadata": {
        "id": "nNO8HdPeYSQp"
      },
      "source": [
        "### Strings\n",
        "\n",
        "Strings are **immutable**, sequences of characters (so, they are **homogeneus**)\n",
        "\n",
        "In the Python language, strings are defined by single `'` or double quotes `\"`,  and their elements are continguous."
      ]
    },
    {
      "cell_type": "code",
      "execution_count": 150,
      "metadata": {
        "id": "mrchuZn8YSQp",
        "outputId": "f580d996-ca28-4f2a-a6aa-fe9c0e01ec95",
        "colab": {
          "base_uri": "https://localhost:8080/"
        }
      },
      "outputs": [
        {
          "output_type": "stream",
          "name": "stdout",
          "text": [
            "Does Cersei have any friends?\n"
          ]
        }
      ],
      "source": [
        "demo_string = \"Does Cersei have any friends?\"\n",
        "print(demo_string)"
      ]
    },
    {
      "cell_type": "code",
      "execution_count": 151,
      "metadata": {
        "id": "P0z8UEXnYSQq",
        "outputId": "06458bb1-9d4a-46c2-b402-f3a10bf40244",
        "colab": {
          "base_uri": "https://localhost:8080/"
        }
      },
      "outputs": [
        {
          "output_type": "execute_result",
          "data": {
            "text/plain": [
              "True"
            ]
          },
          "metadata": {},
          "execution_count": 151
        }
      ],
      "source": [
        "# using single or double quotes is indifferent\n",
        "demo_string_single = 'Does Cersei have any friends?'\n",
        "demo_string == demo_string_single"
      ]
    },
    {
      "cell_type": "code",
      "execution_count": 152,
      "metadata": {
        "id": "FqmfTdkmYSQq",
        "outputId": "dd18316c-0097-4889-c2a8-69e8c313e3d1",
        "colab": {
          "base_uri": "https://localhost:8080/"
        }
      },
      "outputs": [
        {
          "output_type": "stream",
          "name": "stdout",
          "text": [
            "False\n",
            "\"1979\" type is: <class 'str'>\n",
            "1979 type is:<class 'int'>\n"
          ]
        }
      ],
      "source": [
        "# Remember: Digits =/= numbers! (frequent source of debugging frustration)\n",
        "print (type(\"1979\") == type(1979))\n",
        "print ('\"1979\" type is: ' + str(type(\"1979\")))\n",
        "print ('1979 type is:' + str(type(1979)))"
      ]
    },
    {
      "cell_type": "markdown",
      "metadata": {
        "id": "K80AiIHZYSQq"
      },
      "source": [
        "By being immutable sequences, strings accept all the sequences methods, but they not support item assignment:"
      ]
    },
    {
      "cell_type": "code",
      "execution_count": 153,
      "metadata": {
        "id": "dse_Wr9kYSQq",
        "outputId": "94a4f492-f28f-4131-8df8-2471c0c7d51e",
        "colab": {
          "base_uri": "https://localhost:8080/"
        }
      },
      "outputs": [
        {
          "output_type": "execute_result",
          "data": {
            "text/plain": [
              "29"
            ]
          },
          "metadata": {},
          "execution_count": 153
        }
      ],
      "source": [
        "# you can check the length (in charachters, whitespaces count!!!) of a string\n",
        "len(demo_string)"
      ]
    },
    {
      "cell_type": "code",
      "execution_count": 154,
      "metadata": {
        "id": "DhMZ2rIiYSQx",
        "outputId": "7cb19989-09de-49a0-8647-4bd606bef2bd",
        "colab": {
          "base_uri": "https://localhost:8080/"
        }
      },
      "outputs": [
        {
          "output_type": "execute_result",
          "data": {
            "text/plain": [
              "True"
            ]
          },
          "metadata": {},
          "execution_count": 154
        }
      ],
      "source": [
        "# strings can be looked for in other strings\n",
        "\"Cersei\" in demo_string"
      ]
    },
    {
      "cell_type": "code",
      "execution_count": 155,
      "metadata": {
        "id": "rGsHopyoYSQx",
        "outputId": "5e798ba6-68cb-4e07-9906-ae6b7b271bc6",
        "colab": {
          "base_uri": "https://localhost:8080/"
        }
      },
      "outputs": [
        {
          "output_type": "execute_result",
          "data": {
            "text/plain": [
              "2"
            ]
          },
          "metadata": {},
          "execution_count": 155
        }
      ],
      "source": [
        "# how many 'a's do we have in our string?\n",
        "demo_string.count(\"a\")"
      ]
    },
    {
      "cell_type": "code",
      "execution_count": 156,
      "metadata": {
        "id": "VTGy7PuMYSQx",
        "outputId": "6d787849-534f-4fba-bb66-c3115d0248e8",
        "colab": {
          "base_uri": "https://localhost:8080/",
          "height": 35
        }
      },
      "outputs": [
        {
          "output_type": "execute_result",
          "data": {
            "text/plain": [
              "'Does Cersei have any friends?\\nNoway!'"
            ],
            "application/vnd.google.colaboratory.intrinsic+json": {
              "type": "string"
            }
          },
          "metadata": {},
          "execution_count": 156
        }
      ],
      "source": [
        "# concatenation is possible\n",
        "demo_string += \"\\nNoway!\"\n",
        "demo_string"
      ]
    },
    {
      "cell_type": "markdown",
      "metadata": {
        "id": "6u-_lw-MYSQx"
      },
      "source": [
        "The escape sequence `\\n` indicates the end of the line.\n",
        "\n",
        "Python escape sequences are introduced by the escape character `\\`, whose goal is to signal the interpreter that the following character has an \"unusual\" interpretation. Here is a partial list:\n",
        "\n",
        "| Escape Sequence|         Meaning|\n",
        "|:--------------:|:---------------:|\n",
        "|              \\\\\\\\|  backslash|\n",
        "|              \\\\'|  single quote|\n",
        "|              \\\\b|  backspace|\n",
        "|              \\\\n|  new line|\n",
        "|              \\\\t|  horizontal tab|\n"
      ]
    },
    {
      "cell_type": "code",
      "execution_count": 157,
      "metadata": {
        "id": "EKgPUjp7YSQy",
        "outputId": "c5da3302-84c3-40ca-f10f-bdb30251945f",
        "colab": {
          "base_uri": "https://localhost:8080/"
        }
      },
      "outputs": [
        {
          "output_type": "stream",
          "name": "stdout",
          "text": [
            "Does Cersei have any friends?\n",
            "Noway!\n"
          ]
        }
      ],
      "source": [
        "# nicely print our string!\n",
        "print(demo_string)"
      ]
    },
    {
      "cell_type": "code",
      "execution_count": 158,
      "metadata": {
        "scrolled": true,
        "id": "nIl2iDS9YSQy",
        "outputId": "e5f4a985-a801-4466-ada0-0544192de651",
        "colab": {
          "base_uri": "https://localhost:8080/"
        }
      },
      "outputs": [
        {
          "output_type": "stream",
          "name": "stdout",
          "text": [
            "Does Cersei have any friends?\n",
            "Noway!\b\n"
          ]
        }
      ],
      "source": [
        "# what does a backspace do?\n",
        "print(demo_string  +\"\\b\")"
      ]
    },
    {
      "cell_type": "code",
      "execution_count": 159,
      "metadata": {
        "id": "-V211BQQYSQy",
        "outputId": "9e0b368d-0f2c-486c-abf9-f71211630542",
        "colab": {
          "base_uri": "https://localhost:8080/",
          "height": 35
        }
      },
      "outputs": [
        {
          "output_type": "execute_result",
          "data": {
            "text/plain": [
              "\"can any of you pronounce 's-Hertogenbosch?\""
            ],
            "application/vnd.google.colaboratory.intrinsic+json": {
              "type": "string"
            }
          },
          "metadata": {},
          "execution_count": 159
        }
      ],
      "source": [
        "# the escape character may be useful when you need single quotes inside a single quote-marked string...\n",
        "'can any of you pronounce \\'s-Hertogenbosch?'"
      ]
    },
    {
      "cell_type": "code",
      "execution_count": 160,
      "metadata": {
        "id": "akjvN4mmYSQy",
        "outputId": "7cf4374c-afc0-484e-9e55-72820ebdf61f",
        "colab": {
          "base_uri": "https://localhost:8080/",
          "height": 35
        }
      },
      "outputs": [
        {
          "output_type": "execute_result",
          "data": {
            "text/plain": [
              "\"can any of you pronounce 's-Hertogenbosch?\""
            ],
            "application/vnd.google.colaboratory.intrinsic+json": {
              "type": "string"
            }
          },
          "metadata": {},
          "execution_count": 160
        }
      ],
      "source": [
        "# but I prefer this solution (when possible)\n",
        "\"can any of you pronounce 's-Hertogenbosch?\""
      ]
    },
    {
      "cell_type": "markdown",
      "metadata": {
        "id": "W1J_1JsNYSQz"
      },
      "source": [
        "Strings that span multiple lines can be written in a readable form by using the sequence `\"\"\"` as a delimiter"
      ]
    },
    {
      "cell_type": "code",
      "execution_count": 161,
      "metadata": {
        "id": "kq5587buYSQz",
        "outputId": "727777eb-68ef-45c2-bdac-d72141e99fc7",
        "colab": {
          "base_uri": "https://localhost:8080/"
        }
      },
      "outputs": [
        {
          "output_type": "stream",
          "name": "stdout",
          "text": [
            "Unsealed, on a porch a letter sat\n",
            "Then you said, \"I wanna leave it again\"\n",
            "Once I saw her on a beach of weathered sand\n",
            "And on the sand I wanna leave her again\n"
          ]
        }
      ],
      "source": [
        "print(\"\"\"Unsealed, on a porch a letter sat\n",
        "Then you said, \"I wanna leave it again\"\n",
        "Once I saw her on a beach of weathered sand\n",
        "And on the sand I wanna leave her again\"\"\")"
      ]
    },
    {
      "cell_type": "markdown",
      "metadata": {
        "id": "SLuLPtIqYSQz"
      },
      "source": [
        "**Question:**"
      ]
    },
    {
      "cell_type": "code",
      "execution_count": 162,
      "metadata": {
        "id": "NOZp5egHYSQ0",
        "outputId": "6eb8b256-7ec8-41ed-b5f6-b83207f0a4b7",
        "colab": {
          "base_uri": "https://localhost:8080/",
          "height": 53
        }
      },
      "outputs": [
        {
          "output_type": "execute_result",
          "data": {
            "text/plain": [
              "'\"On a weekend I wanna wish it all away, yeah\\nAnd they called and I said that I\\'ll go\\nAnd I said that I\\'ll call out again\\nAnd the reason I ought ta leave her calm, I know\\nI said, \"I don\\'t know whether I\\'m the boxer or the bag'"
            ],
            "application/vnd.google.colaboratory.intrinsic+json": {
              "type": "string"
            }
          },
          "metadata": {},
          "execution_count": 162
        }
      ],
      "source": [
        "# where do all those '\\n's come from???\n",
        "\"\"\"\"On a weekend I wanna wish it all away, yeah\n",
        "And they called and I said that I'll go\n",
        "And I said that I'll call out again\n",
        "And the reason I ought ta leave her calm, I know\n",
        "I said, \"I don't know whether I'm the boxer or the bag\"\"\"\"\""
      ]
    },
    {
      "cell_type": "markdown",
      "metadata": {
        "id": "mTYYXbt6YSQ0"
      },
      "source": [
        "#### String slicing is a thing:"
      ]
    },
    {
      "cell_type": "markdown",
      "metadata": {
        "id": "bHtomxlNYSQ0"
      },
      "source": [
        "![alt text](https://github.com/bloemj/AUC_TMCI_2022/blob/main/notebooks/images/string-slicing.png?raw=1)\n",
        "\n",
        "\n",
        "Source: [Bird et al. (2009)](http://www.nltk.org/book/ch03.html)"
      ]
    },
    {
      "cell_type": "code",
      "execution_count": 163,
      "metadata": {
        "id": "LMaBVig8YSQ1",
        "outputId": "d2e70c87-2053-4799-eda6-d27e7b19f522",
        "colab": {
          "base_uri": "https://localhost:8080/",
          "height": 35
        }
      },
      "outputs": [
        {
          "output_type": "execute_result",
          "data": {
            "text/plain": [
              "'Monty'"
            ],
            "application/vnd.google.colaboratory.intrinsic+json": {
              "type": "string"
            }
          },
          "metadata": {},
          "execution_count": 163
        }
      ],
      "source": [
        "# let's try it\n",
        "\"Monty Python\"[-12:-7]"
      ]
    },
    {
      "cell_type": "code",
      "execution_count": 164,
      "metadata": {
        "id": "eMbw4YdoYSQ1",
        "outputId": "c71c3c59-e165-486f-c49c-d804e550935c",
        "colab": {
          "base_uri": "https://localhost:8080/"
        }
      },
      "outputs": [
        {
          "output_type": "stream",
          "name": "stdout",
          "text": [
            "'str' object does not support item assignment\n"
          ]
        }
      ],
      "source": [
        "# ...but single characters cannot be replaced\n",
        "try:\n",
        "    demo_string[5:11] = \"Melisandre\"\n",
        "except TypeError as e:\n",
        "    print(e)"
      ]
    },
    {
      "cell_type": "markdown",
      "metadata": {
        "id": "nnZnKuTNYSQ2"
      },
      "source": [
        "#### String Methods\n",
        "\n",
        "Strings have a buch of dedicated methods (see the [documentation](https://docs.python.org/2/library/stdtypes.html#string-methods) for a complete list), that allows them to be both inspected or manipulated (they are not modified, rather a **new object** is returned). The following are those I use the most:"
      ]
    },
    {
      "cell_type": "code",
      "execution_count": 165,
      "metadata": {
        "id": "EBWMVT-xYSQ2",
        "outputId": "f6c0de9f-ff0c-42fb-cd7d-84c62b04df50",
        "colab": {
          "base_uri": "https://localhost:8080/"
        }
      },
      "outputs": [
        {
          "output_type": "stream",
          "name": "stdout",
          "text": [
            "True\n",
            "True\n",
            "False\n"
          ]
        }
      ],
      "source": [
        "# is the string composed SOLELY of 1. digits 2. alphabetic characters 3. both?\n",
        "print('100'.isdigit())\n",
        "print('cat'.isalpha())\n",
        "print('my cat is 100'.isalnum())"
      ]
    },
    {
      "cell_type": "code",
      "execution_count": 166,
      "metadata": {
        "id": "_2xZvH2fYSQ3",
        "outputId": "a3788126-e736-4d2f-dd76-79d36d6959a4",
        "colab": {
          "base_uri": "https://localhost:8080/"
        }
      },
      "outputs": [
        {
          "output_type": "stream",
          "name": "stdout",
          "text": [
            "Does Cersei have any friends?\n",
            "Noway!\n"
          ]
        }
      ],
      "source": [
        "print(demo_string)"
      ]
    },
    {
      "cell_type": "code",
      "execution_count": 167,
      "metadata": {
        "id": "kQyGFyU9YSQ3",
        "outputId": "7b53de08-f547-4553-e798-e7e6fb60c494",
        "colab": {
          "base_uri": "https://localhost:8080/"
        }
      },
      "outputs": [
        {
          "output_type": "stream",
          "name": "stdout",
          "text": [
            "False\n",
            "True\n"
          ]
        }
      ],
      "source": [
        "# does the string starts or ends with a given sequence of characters?\n",
        "print(demo_string.startswith(\"d\"))  # it is case sensitive !!!\n",
        "print(demo_string.endswith(\"Noway!\"))"
      ]
    },
    {
      "cell_type": "code",
      "execution_count": 168,
      "metadata": {
        "id": "rxckqL11YSQ4",
        "outputId": "dcd2d4d0-00b0-4521-b70c-4b152b1257f8",
        "colab": {
          "base_uri": "https://localhost:8080/"
        }
      },
      "outputs": [
        {
          "output_type": "stream",
          "name": "stdout",
          "text": [
            "DOES CERSEI HAVE ANY FRIENDS?\n",
            "does cersei have any friends?\n"
          ]
        }
      ],
      "source": [
        "# change case to all the characters of a string\n",
        "print(demo_string_single.upper())\n",
        "print(demo_string_single.lower())"
      ]
    },
    {
      "cell_type": "code",
      "execution_count": 169,
      "metadata": {
        "id": "mFWvE-UUYSQ5",
        "outputId": "1096ef96-a672-4a0e-88c7-4d03ce57e618",
        "colab": {
          "base_uri": "https://localhost:8080/"
        }
      },
      "outputs": [
        {
          "output_type": "stream",
          "name": "stdout",
          "text": [
            "Twice minus: - before and after \n",
            "Too much space?\n"
          ]
        }
      ],
      "source": [
        "# remove a given character (default is any whitespace) from the beginning and the end of a string\n",
        "print (\"Twice minus: - before and after -\".strip(\"-\"))\n",
        "print (\"  \\t  Too much space?\".strip())"
      ]
    },
    {
      "cell_type": "code",
      "execution_count": 170,
      "metadata": {
        "id": "giOMlBYHYSQ6",
        "outputId": "667557e3-df2b-404a-c21b-9bc96ca4c18c",
        "colab": {
          "base_uri": "https://localhost:8080/"
        }
      },
      "outputs": [
        {
          "output_type": "stream",
          "name": "stdout",
          "text": [
            "Does Melisandre have any friends?\n",
            "Noway!\n"
          ]
        }
      ],
      "source": [
        "# replace a given sequence of characters with another\n",
        "print(demo_string.replace(\"Cersei\", \"Melisandre\"))"
      ]
    },
    {
      "cell_type": "markdown",
      "metadata": {
        "id": "M33pOGUJYSQ7"
      },
      "source": [
        "A string can be transformed into a list of string by splitting it on a given character"
      ]
    },
    {
      "cell_type": "code",
      "execution_count": 171,
      "metadata": {
        "id": "qKkBeA2uYSQ7",
        "outputId": "743b35fe-7f3e-40f6-ca49-12047ee65b0d",
        "colab": {
          "base_uri": "https://localhost:8080/"
        }
      },
      "outputs": [
        {
          "output_type": "execute_result",
          "data": {
            "text/plain": [
              "['Does', 'Cersei', 'have', 'any', 'friends?']"
            ]
          },
          "metadata": {},
          "execution_count": 171
        }
      ],
      "source": [
        "# a whitespace\n",
        "demo_string_single.split(\" \")"
      ]
    },
    {
      "cell_type": "code",
      "execution_count": 172,
      "metadata": {
        "id": "2v-T9kKlYSQ7",
        "outputId": "2b68e088-e4b0-4937-a7da-ef35e2ab52b8",
        "colab": {
          "base_uri": "https://localhost:8080/"
        }
      },
      "outputs": [
        {
          "output_type": "execute_result",
          "data": {
            "text/plain": [
              "['Does', 'Cersei', 'have', 'any', 'friends?', 'Noway!']"
            ]
          },
          "metadata": {},
          "execution_count": 172
        }
      ],
      "source": [
        "# the default character is any white line (that's convenient)\n",
        "demo_string.split()"
      ]
    },
    {
      "cell_type": "code",
      "execution_count": 173,
      "metadata": {
        "id": "P1iG5lQrYSQ8",
        "outputId": "63827eba-ad3e-41fc-98f1-4e9c79394988",
        "colab": {
          "base_uri": "https://localhost:8080/"
        }
      },
      "outputs": [
        {
          "output_type": "execute_result",
          "data": {
            "text/plain": [
              "['Does', 'Cersei', 'have any friends?']"
            ]
          },
          "metadata": {},
          "execution_count": 173
        }
      ],
      "source": [
        "# the maximun number of slits can be specified\n",
        "demo_string_single.split(\" \", 2)"
      ]
    },
    {
      "cell_type": "markdown",
      "metadata": {
        "id": "ZLX-eSpiYSQ8"
      },
      "source": [
        "The inverse operation is possible, a list of strings can be joined by a single character"
      ]
    },
    {
      "cell_type": "code",
      "execution_count": 174,
      "metadata": {
        "id": "ognW_VwNYSQ8",
        "outputId": "62d4fb72-93c4-4ea0-89e3-609ad909f6bd",
        "colab": {
          "base_uri": "https://localhost:8080/",
          "height": 35
        }
      },
      "outputs": [
        {
          "output_type": "execute_result",
          "data": {
            "text/plain": [
              "'One Two Three'"
            ],
            "application/vnd.google.colaboratory.intrinsic+json": {
              "type": "string"
            }
          },
          "metadata": {},
          "execution_count": 174
        }
      ],
      "source": [
        "# a whitespace\n",
        "\" \".join([\"One\",\"Two\",\"Three\"])"
      ]
    },
    {
      "cell_type": "code",
      "execution_count": 175,
      "metadata": {
        "id": "jgqUo2TGYSQ8",
        "outputId": "1557c994-6b87-47b4-c4bb-0ba3d4ad4989",
        "colab": {
          "base_uri": "https://localhost:8080/",
          "height": 35
        }
      },
      "outputs": [
        {
          "output_type": "execute_result",
          "data": {
            "text/plain": [
              "'One-Two-Three'"
            ],
            "application/vnd.google.colaboratory.intrinsic+json": {
              "type": "string"
            }
          },
          "metadata": {},
          "execution_count": 175
        }
      ],
      "source": [
        "# an hyphen\n",
        "\"-\".join([\"One\",\"Two\",\"Three\"])"
      ]
    },
    {
      "cell_type": "code",
      "execution_count": 176,
      "metadata": {
        "id": "c3QerLWDYSQ8",
        "outputId": "be9372f4-7a17-4d80-d5d1-317121fad75d",
        "colab": {
          "base_uri": "https://localhost:8080/",
          "height": 35
        }
      },
      "outputs": [
        {
          "output_type": "execute_result",
          "data": {
            "text/plain": [
              "'Supercalifragilisticexpialidocious'"
            ],
            "application/vnd.google.colaboratory.intrinsic+json": {
              "type": "string"
            }
          },
          "metadata": {},
          "execution_count": 176
        }
      ],
      "source": [
        "# no characters at all\n",
        "\"\".join([\"Super\", \"cali\", \"fragilistic\", \"expiali\", \"docious\"] )"
      ]
    },
    {
      "cell_type": "code",
      "execution_count": 177,
      "metadata": {
        "id": "3hXII-FxYSQ8",
        "outputId": "8f8484a2-9ffe-473a-c629-5e35c98b4f5e",
        "colab": {
          "base_uri": "https://localhost:8080/"
        }
      },
      "outputs": [
        {
          "output_type": "stream",
          "name": "stdout",
          "text": [
            "sequence item 3: expected str instance, int found\n"
          ]
        }
      ],
      "source": [
        "# BEWARE: non string elements in the original list are not admitted\n",
        "try:\n",
        "    \" \".join([\"Today\", \"I\", \"am\", 45])\n",
        "except TypeError as e:\n",
        "    print(e)"
      ]
    },
    {
      "cell_type": "markdown",
      "metadata": {
        "id": "x9z6WZSsYSQ9"
      },
      "source": [
        "---"
      ]
    },
    {
      "cell_type": "markdown",
      "metadata": {
        "id": "UoVmx859YSQ9"
      },
      "source": [
        "### Quiz\n",
        "\n",
        "Italian nobles tends to have an awful lot of names.\n",
        "\n",
        "For instance, \"Vittorio Emanuele di Savoia\" has the 12 names listed in `full_name`.\n",
        "\n",
        "Can you find a pythonic way to eliminate the less used names from this string?"
      ]
    },
    {
      "cell_type": "code",
      "execution_count": 178,
      "metadata": {
        "id": "ZmHi_lDaYSQ9"
      },
      "outputs": [],
      "source": [
        "full_name = \"Vittorio Emanuele Alberto Carlo Teodoro Umberto Bonifacio Amedeo Damiano Bernardino Gennaro Maria di Savoia\""
      ]
    },
    {
      "cell_type": "code",
      "execution_count": 179,
      "metadata": {
        "id": "wpRm6hoLYSQ9",
        "colab": {
          "base_uri": "https://localhost:8080/",
          "height": 53
        },
        "outputId": "defef9c7-c482-4142-ba8f-bc23f177efe4"
      },
      "outputs": [
        {
          "output_type": "stream",
          "name": "stdout",
          "text": [
            "['Vittorio', 'Emanuele'] ['di', 'Savoia']\n"
          ]
        },
        {
          "output_type": "execute_result",
          "data": {
            "text/plain": [
              "'Vittorio Emanuele di Savoia'"
            ],
            "application/vnd.google.colaboratory.intrinsic+json": {
              "type": "string"
            }
          },
          "metadata": {},
          "execution_count": 179
        }
      ],
      "source": [
        "full_name.split(\" \", 13)\n",
        "full_name_split=full_name.split(\" \", 13)\n",
        "full_name_split[0:2]\n",
        "first_two_names=full_name_split[0:2]\n",
        "last_two_names=full_name_split[-2:]\n",
        "print (first_two_names, last_two_names)\n",
        "\" \".join(full_name_split[0:2])\n",
        "\" \".join(full_name_split[-2:])\n",
        "\" \".join(full_name_split[0:2])+\" \"+\" \".join(full_name_split[-2:])\n",
        "\n"
      ]
    },
    {
      "cell_type": "markdown",
      "metadata": {
        "id": "nicKZ0wBYSQ9"
      },
      "source": [
        "---"
      ]
    },
    {
      "cell_type": "markdown",
      "metadata": {
        "id": "w_g63qdLYSQ9"
      },
      "source": [
        "#### Unicode\n",
        "\n",
        "##### Unicode in brief\n",
        "\n",
        "Characters, the smallest textual units, are abstractions that the computer represent as code points. Code points are integer values, usually denoted in base 16.\n",
        "\n",
        "*The Unicode Standard describes how code points map to characters and vice versa.* (see the [Unicode character table](https://unicode-table.com/en)).\n",
        "\n",
        "\n",
        "##### Encodings\n",
        "\n",
        "Sequences of code points are represented in the computer memory as a set of bytes.\n",
        "\n",
        "*The rules for translating a Unicode string into a sequence of bytes are called an Encoding.*\n",
        "\n",
        "The principal character encoding are `ASCII`, `Latin-1` (`ISO-8859-1`, `iso88591` …), and `UTF-8` (`utf8`, `UTF_8` …). They are partly incompatible, with the following exception: a document stored in `ASCII` can be read using `Latin-1` or `UTF-8`, because `Latin-1` and `UTF-8` are subsets of `ASCII` (i.e. their 0-128 code-points are identical).\n",
        "\n",
        "As a general rule, if you don't know which encoding to choose for your text, you should use `UTF-8`, mainly because it can handle any Unicode point and because it is more compact than other comparable encoding like `UTF-16` and `UTF-32`."
      ]
    },
    {
      "cell_type": "markdown",
      "metadata": {
        "id": "QpZYSORlYSQ-"
      },
      "source": [
        "#### Unicode in Python 3.x\n",
        "\n",
        "Strings are unicode by default in Python 3."
      ]
    },
    {
      "cell_type": "code",
      "execution_count": 180,
      "metadata": {
        "id": "6NsA-OrxYSQ-",
        "outputId": "40c7d5e4-ad0a-4de9-aa61-1acac18aca84",
        "colab": {
          "base_uri": "https://localhost:8080/"
        }
      },
      "outputs": [
        {
          "output_type": "execute_result",
          "data": {
            "text/plain": [
              "str"
            ]
          },
          "metadata": {},
          "execution_count": 180
        }
      ],
      "source": [
        "# a byte string is visualised according to your default locale\n",
        "string_1 = \"Does Cersei have any friends?\"\n",
        "type(string_1)"
      ]
    },
    {
      "cell_type": "code",
      "execution_count": 181,
      "metadata": {
        "id": "v7KxlTjNYSQ_",
        "outputId": "2de8289d-429c-4bd1-c973-f3d1a3feec59",
        "colab": {
          "base_uri": "https://localhost:8080/"
        }
      },
      "outputs": [
        {
          "output_type": "execute_result",
          "data": {
            "text/plain": [
              "str"
            ]
          },
          "metadata": {},
          "execution_count": 181
        }
      ],
      "source": [
        "# a unicode string\n",
        "string_2 = u\"Does Cersei™ have any friends?\"\n",
        "type(string_2)"
      ]
    },
    {
      "cell_type": "markdown",
      "metadata": {
        "id": "Zxgm6QcsYSQ_"
      },
      "source": [
        "##### From bytes to Unicode (and back)\n",
        "\n",
        "`encode()` allows you to convert unicode strings to byte strings."
      ]
    },
    {
      "cell_type": "code",
      "execution_count": 182,
      "metadata": {
        "id": "SqQxUrMwYSQ_",
        "outputId": "7c56cd3f-65ba-41e5-ce49-3b0db93b1d13",
        "colab": {
          "base_uri": "https://localhost:8080/"
        }
      },
      "outputs": [
        {
          "output_type": "stream",
          "name": "stdout",
          "text": [
            "<class 'str'>\n",
            "<class 'bytes'>\n",
            "<class 'str'>\n"
          ]
        }
      ],
      "source": [
        "# default Py3 unicode string\n",
        "print(type(string_2))\n",
        "\n",
        "# unicode string to byte string\n",
        "string_2 = string_2.encode('utf8')\n",
        "print(type(string_2))\n",
        "\n",
        "string_2 = string_2.decode(\"utf-8\")\n",
        "print(type(string_2))"
      ]
    },
    {
      "cell_type": "markdown",
      "metadata": {
        "id": "MRoLpkd6YSRA"
      },
      "source": [
        "#### Unicode Decoding and Encoding\n",
        "\n",
        "![alt text](https://github.com/bloemj/AUC_TMCI_2022/blob/main/notebooks/images/unicode.png?raw=1)\n",
        "\n",
        "\n",
        "Source: [Bird et al. (2009)](http://www.nltk.org/book/ch03.html#what-is-unicode)"
      ]
    },
    {
      "cell_type": "markdown",
      "metadata": {
        "id": "bhIoEWCiYSRA"
      },
      "source": [
        "---"
      ]
    },
    {
      "cell_type": "markdown",
      "metadata": {
        "id": "klP3uBYVYSRA"
      },
      "source": [
        "### Sets\n",
        "\n",
        "Sets are collections of **unordered** of **distinct** objects.\n",
        "\n",
        "They are commonly used to test membership, to remove duplicates or to compute mathematical operations such as intersection, union, difference, and symmetric difference. Being unordered collections, they do not support indexing, slicing and any other sequence-like behavior.\n",
        "\n",
        "In Python, sets can be create beither by using the syntax  `set([])` or by using curly braces `{}`."
      ]
    },
    {
      "cell_type": "code",
      "execution_count": 183,
      "metadata": {
        "id": "uYmKNEzUYSRA",
        "outputId": "5fced77b-cbc7-4ce4-88aa-0cd34a9dbfc0",
        "colab": {
          "base_uri": "https://localhost:8080/"
        }
      },
      "outputs": [
        {
          "output_type": "stream",
          "name": "stdout",
          "text": [
            "{1, 2, 3, 4, 5, 6}\n",
            "{1, 3, 6, 9}\n"
          ]
        }
      ],
      "source": [
        "# when you creates a set, repetitions are removed\n",
        "demo_set = set([1,2,1,2,1,2,3,5,6,4,2,3,5,2])\n",
        "another_demo_set = {1,6,6,3,9}\n",
        "print(demo_set)\n",
        "print(another_demo_set)"
      ]
    },
    {
      "cell_type": "code",
      "execution_count": 184,
      "metadata": {
        "id": "6ZRJUA7nYSRA",
        "outputId": "3126ec74-db36-4e7c-fd65-db6e382acdc5",
        "colab": {
          "base_uri": "https://localhost:8080/"
        }
      },
      "outputs": [
        {
          "output_type": "execute_result",
          "data": {
            "text/plain": [
              "{1, 2, 3, 4, 5, 6, 7}"
            ]
          },
          "metadata": {},
          "execution_count": 184
        }
      ],
      "source": [
        "# elements may we added with the function add()\n",
        "demo_set.add(7)\n",
        "demo_set"
      ]
    },
    {
      "cell_type": "code",
      "execution_count": 185,
      "metadata": {
        "id": "AzZGwvEoYSRB",
        "outputId": "1755c8e7-6658-4b41-cf5d-a3ee8a865b4d",
        "colab": {
          "base_uri": "https://localhost:8080/"
        }
      },
      "outputs": [
        {
          "output_type": "execute_result",
          "data": {
            "text/plain": [
              "{1, 3, 4, 5, 6, 7}"
            ]
          },
          "metadata": {},
          "execution_count": 185
        }
      ],
      "source": [
        "# elements may we removed with the function remove()\n",
        "demo_set.remove(2)\n",
        "demo_set"
      ]
    },
    {
      "cell_type": "code",
      "execution_count": 186,
      "metadata": {
        "id": "YbRWdsEwYSRB",
        "outputId": "fe2a326b-9757-47aa-c7ed-77d3ebcca3a9",
        "colab": {
          "base_uri": "https://localhost:8080/"
        }
      },
      "outputs": [
        {
          "output_type": "execute_result",
          "data": {
            "text/plain": [
              "6"
            ]
          },
          "metadata": {},
          "execution_count": 186
        }
      ],
      "source": [
        "# length of a set\n",
        "len(demo_set)"
      ]
    },
    {
      "cell_type": "code",
      "execution_count": 187,
      "metadata": {
        "id": "WgRi7ujUYSRB",
        "outputId": "fdbfadc5-d425-4b34-b031-7e4747496121",
        "colab": {
          "base_uri": "https://localhost:8080/"
        }
      },
      "outputs": [
        {
          "output_type": "execute_result",
          "data": {
            "text/plain": [
              "True"
            ]
          },
          "metadata": {},
          "execution_count": 187
        }
      ],
      "source": [
        "# membership test\n",
        "5 in demo_set"
      ]
    },
    {
      "cell_type": "code",
      "execution_count": 188,
      "metadata": {
        "id": "CWfxM9brYSRB",
        "outputId": "7cd8bd8e-2ea0-441a-d778-d7eaa5e77a93",
        "colab": {
          "base_uri": "https://localhost:8080/"
        }
      },
      "outputs": [
        {
          "output_type": "execute_result",
          "data": {
            "text/plain": [
              "{1, 3, 4, 5, 6, 7, 9}"
            ]
          },
          "metadata": {},
          "execution_count": 188
        }
      ],
      "source": [
        "# the union of the two sets\n",
        "demo_set.union(another_demo_set)"
      ]
    },
    {
      "cell_type": "code",
      "execution_count": 189,
      "metadata": {
        "id": "4rQBChveYSRC",
        "outputId": "12842a03-72c1-4c79-b130-9a36fe35a380",
        "colab": {
          "base_uri": "https://localhost:8080/"
        }
      },
      "outputs": [
        {
          "output_type": "execute_result",
          "data": {
            "text/plain": [
              "{1, 3, 6}"
            ]
          },
          "metadata": {},
          "execution_count": 189
        }
      ],
      "source": [
        "# intersection of the two sets\n",
        "demo_set.intersection(another_demo_set)"
      ]
    },
    {
      "cell_type": "code",
      "execution_count": 190,
      "metadata": {
        "id": "sW-bqN5XYSRC",
        "outputId": "5b9b7741-a5ee-4ca1-cf33-2d59977bf537",
        "colab": {
          "base_uri": "https://localhost:8080/"
        }
      },
      "outputs": [
        {
          "output_type": "execute_result",
          "data": {
            "text/plain": [
              "{4, 5, 7}"
            ]
          },
          "metadata": {},
          "execution_count": 190
        }
      ],
      "source": [
        "# elements that are in the demo_set but not in another_demo_set\n",
        "demo_set.difference(another_demo_set)"
      ]
    },
    {
      "cell_type": "code",
      "execution_count": 191,
      "metadata": {
        "id": "LpMqqFFdYSRC",
        "outputId": "73cd4676-499c-4e1a-fda9-f4878c069a26",
        "colab": {
          "base_uri": "https://localhost:8080/"
        }
      },
      "outputs": [
        {
          "output_type": "stream",
          "name": "stdout",
          "text": [
            "False\n",
            "False\n"
          ]
        }
      ],
      "source": [
        "# every elements of another_demo_set are in demo_set?\n",
        "print(demo_set.issuperset(another_demo_set))\n",
        "print(another_demo_set.issubset(demo_set))"
      ]
    },
    {
      "cell_type": "markdown",
      "metadata": {
        "id": "e6xRFzaYYSRC"
      },
      "source": [
        "---"
      ]
    },
    {
      "cell_type": "markdown",
      "metadata": {
        "id": "eiUZXpIoYSRC"
      },
      "source": [
        "### Quiz\n",
        "\n",
        "The following list contains 100 random extractions (with replacement) of numbers between 1 and 15.\n",
        "\n",
        "Find the number that has never been extracted"
      ]
    },
    {
      "cell_type": "code",
      "execution_count": 192,
      "metadata": {
        "id": "LWpOpnXJYSRC"
      },
      "outputs": [],
      "source": [
        "random_numbers = [1, 2, 1, 1, 9, 13, 15, 5, 9, 8, 12, 14, 3, 2, 8, 10, 3, 12, 15, 13, 5, 3, 7, 5, 2, 13, 12, 8, 10, 5, 15, 8, 2, 8, 5, 12, 9, 2, 3, 5, 1, 4, 5, 9, 13, 2, 12, 5, 10, 8, 1, 15, 15, 6, 12, 3, 1, 3, 7, 14, 15, 10, 15, 7, 10, 12, 1, 2, 13, 7, 9, 6, 6, 7, 4, 12, 10, 8, 8, 3, 8, 4, 6, 14, 10, 5, 2, 3, 15, 4, 9, 3, 7, 7, 2, 4, 4, 1, 7, 15]"
      ]
    },
    {
      "cell_type": "code",
      "execution_count": 193,
      "metadata": {
        "id": "IQO-4TAPYSRD",
        "colab": {
          "base_uri": "https://localhost:8080/"
        },
        "outputId": "ed5218f3-dc60-4f2d-a7b4-6a7bc49406d1"
      },
      "outputs": [
        {
          "output_type": "stream",
          "name": "stdout",
          "text": [
            "{1, 2, 3, 4, 5, 6, 7, 8, 9, 10, 12, 13, 14, 15}\n"
          ]
        },
        {
          "output_type": "execute_result",
          "data": {
            "text/plain": [
              "{11}"
            ]
          },
          "metadata": {},
          "execution_count": 193
        }
      ],
      "source": [
        "random_numbers = set(random_numbers)\n",
        "print(random_numbers)\n",
        "another_demo_set = {1, 2, 3, 4, 5, 6, 7, 8, 9, 10, 11, 12, 13, 14, 15}\n",
        "another_demo_set.difference(random_numbers)"
      ]
    },
    {
      "cell_type": "markdown",
      "metadata": {
        "id": "oY79MJvyYSRD"
      },
      "source": [
        "---"
      ]
    },
    {
      "cell_type": "markdown",
      "metadata": {
        "id": "GviKhHzkYSRD"
      },
      "source": [
        "### Dictionaries\n",
        "\n",
        "Dictionaries are **associative arrays** mapping **immutable** types (string, numbers, tuples...) to arbitrary objects of any kind (variables, functions, modules...). Intuitively, they can be thought as collections of objects that we can recall by means of a unique key.\n",
        "\n",
        "To visualize a Python dictionary you can think of a telephone book, in which people names are the unique keys that you use to retrieve difference kinds of information (phone numbers, street address, mail address...). The same telephone number, street address or other information can be present in the entries of more people, but a label cannot be associated with more than one entry.\n",
        "\n",
        "In Python, dictionaries are defined by curly brackets `{}`, in which key-value pairs are separated by commas and joint by colons."
      ]
    },
    {
      "cell_type": "code",
      "execution_count": 194,
      "metadata": {
        "id": "26Ap7p7tYSRD",
        "outputId": "8e96189e-4b93-4694-a957-c0ffdf506cf5",
        "colab": {
          "base_uri": "https://localhost:8080/"
        }
      },
      "outputs": [
        {
          "output_type": "stream",
          "name": "stdout",
          "text": [
            "{'black': 'zwart', 'white': 'witte', 'red': 'rod', 'yellow': 'geel'}\n"
          ]
        }
      ],
      "source": [
        "# a English-Dutch dictionary of colors\n",
        "demo_dictionary = {\"black\" : \"zwart\",\n",
        "                  \"white\" : \"witte\",\n",
        "                  \"red\" : \"rod\",\n",
        "                  \"yellow\" : \"geel\"}\n",
        "print(demo_dictionary)"
      ]
    },
    {
      "cell_type": "code",
      "execution_count": 195,
      "metadata": {
        "id": "GPfrm5AzYSRD",
        "outputId": "6a80d0d6-edce-4ee5-8721-e8e6bd4c550f",
        "colab": {
          "base_uri": "https://localhost:8080/",
          "height": 35
        }
      },
      "outputs": [
        {
          "output_type": "execute_result",
          "data": {
            "text/plain": [
              "'witte'"
            ],
            "application/vnd.google.colaboratory.intrinsic+json": {
              "type": "string"
            }
          },
          "metadata": {},
          "execution_count": 195
        }
      ],
      "source": [
        "# values can be recalled by their keys\n",
        "demo_dictionary[\"white\"]"
      ]
    },
    {
      "cell_type": "code",
      "execution_count": 196,
      "metadata": {
        "id": "XaYcjdYIYSRD",
        "outputId": "74cc6da8-5027-4651-9fdc-4c00e741bc4a",
        "colab": {
          "base_uri": "https://localhost:8080/"
        }
      },
      "outputs": [
        {
          "output_type": "stream",
          "name": "stdout",
          "text": [
            "{'black': 'zwart', 'white': 'wit', 'red': 'rod', 'yellow': 'geel'}\n"
          ]
        }
      ],
      "source": [
        "# we can change a value assocaited with a key\n",
        "demo_dictionary[\"white\"] = \"wit\"\n",
        "print(demo_dictionary)"
      ]
    },
    {
      "cell_type": "code",
      "execution_count": 197,
      "metadata": {
        "id": "Y3qYF_BWYSRE",
        "outputId": "4da54447-8042-4714-b053-c1a874e9d016",
        "colab": {
          "base_uri": "https://localhost:8080/"
        }
      },
      "outputs": [
        {
          "output_type": "stream",
          "name": "stdout",
          "text": [
            "{'black': 'zwart', 'white': 'wit', 'red': 'rod', 'yellow': 'geel', 'blue': 'blauw'}\n"
          ]
        }
      ],
      "source": [
        "# if the key is missing a new key : value pair is added\n",
        "demo_dictionary[\"blue\"] = \"blauw\"\n",
        "print(demo_dictionary)"
      ]
    },
    {
      "cell_type": "code",
      "execution_count": 198,
      "metadata": {
        "id": "oj2WRRYGYSRE",
        "outputId": "26fce4c9-a3b0-4e38-d68c-41bf5db4efbf",
        "colab": {
          "base_uri": "https://localhost:8080/"
        }
      },
      "outputs": [
        {
          "output_type": "stream",
          "name": "stdout",
          "text": [
            "{'black': 'zwart', 'white': 'wit', 'red': 'rod', 'yellow': 'geel'}\n"
          ]
        }
      ],
      "source": [
        "# key:values can be deleted with the command \"del()\"\n",
        "del(demo_dictionary[\"blue\"])\n",
        "print(demo_dictionary)"
      ]
    },
    {
      "cell_type": "code",
      "execution_count": 199,
      "metadata": {
        "id": "nyi4Eb28YSRE",
        "outputId": "b8630a29-718e-42e5-d9d1-58ffbb1080f0",
        "colab": {
          "base_uri": "https://localhost:8080/"
        }
      },
      "outputs": [
        {
          "output_type": "execute_result",
          "data": {
            "text/plain": [
              "False"
            ]
          },
          "metadata": {},
          "execution_count": 199
        }
      ],
      "source": [
        "# check if a dictionary has a given key\n",
        "\"blue\" in demo_dictionary"
      ]
    },
    {
      "cell_type": "code",
      "execution_count": 200,
      "metadata": {
        "id": "Ew8FO7CDYSRE",
        "outputId": "a080acee-7d11-45b9-827c-6ff759d52cf2",
        "colab": {
          "base_uri": "https://localhost:8080/"
        }
      },
      "outputs": [
        {
          "output_type": "execute_result",
          "data": {
            "text/plain": [
              "4"
            ]
          },
          "metadata": {},
          "execution_count": 200
        }
      ],
      "source": [
        "# count the number of entries in a dictionary\n",
        "len(demo_dictionary)"
      ]
    },
    {
      "cell_type": "markdown",
      "metadata": {
        "id": "FQj3OPDiYSRF"
      },
      "source": [
        "#### Iterating over a Dictionary"
      ]
    },
    {
      "cell_type": "code",
      "execution_count": 201,
      "metadata": {
        "id": "joGZABNcYSRF",
        "outputId": "35bf41cc-8689-4fff-be30-8515fed053b9",
        "colab": {
          "base_uri": "https://localhost:8080/"
        }
      },
      "outputs": [
        {
          "output_type": "stream",
          "name": "stdout",
          "text": [
            "['black', 'white', 'red', 'yellow']\n",
            "['black', 'white', 'red', 'yellow']\n"
          ]
        }
      ],
      "source": [
        "# iterate over dictionary keys:\n",
        "print(list(demo_dictionary))\n",
        "print(list(demo_dictionary.keys()))"
      ]
    },
    {
      "cell_type": "code",
      "execution_count": 202,
      "metadata": {
        "id": "sT1kKiCGYSRF",
        "outputId": "88df2db0-e369-4e26-8c04-7da709113ae6",
        "colab": {
          "base_uri": "https://localhost:8080/"
        }
      },
      "outputs": [
        {
          "output_type": "stream",
          "name": "stdout",
          "text": [
            "['zwart', 'wit', 'rod', 'geel']\n"
          ]
        }
      ],
      "source": [
        "# iterate over dictionary values:\n",
        "print(list(demo_dictionary.values()))"
      ]
    },
    {
      "cell_type": "code",
      "execution_count": 203,
      "metadata": {
        "id": "td9ZGkH6YSRF",
        "outputId": "84a216b9-ad76-4454-e9dd-43fab9ef3093",
        "colab": {
          "base_uri": "https://localhost:8080/"
        }
      },
      "outputs": [
        {
          "output_type": "stream",
          "name": "stdout",
          "text": [
            "[('black', 'zwart'), ('white', 'wit'), ('red', 'rod'), ('yellow', 'geel')]\n"
          ]
        }
      ],
      "source": [
        "# iterate over dictionary key-value pairs:\n",
        "print(list(demo_dictionary.items()))"
      ]
    },
    {
      "cell_type": "markdown",
      "metadata": {
        "id": "A5Sty_JoYSRF"
      },
      "source": [
        "---"
      ]
    },
    {
      "cell_type": "markdown",
      "metadata": {
        "id": "WuwiY0N4YSRG"
      },
      "source": [
        "### Quiz\n",
        "\n",
        "How many characters the longest Dutch color name in our dictionary has?"
      ]
    },
    {
      "cell_type": "code",
      "execution_count": 204,
      "metadata": {
        "id": "ppJmwzypYSRG",
        "colab": {
          "base_uri": "https://localhost:8080/"
        },
        "outputId": "048c985e-dba1-4893-ad40-d9fedce82e20"
      },
      "outputs": [
        {
          "output_type": "stream",
          "name": "stdout",
          "text": [
            "['zwart', 'wit', 'rod', 'geel']\n"
          ]
        },
        {
          "output_type": "execute_result",
          "data": {
            "text/plain": [
              "5"
            ]
          },
          "metadata": {},
          "execution_count": 204
        }
      ],
      "source": [
        "print(list(demo_dictionary.values()))\n",
        "len(max(list(demo_dictionary.values())))\n",
        "\n"
      ]
    },
    {
      "cell_type": "markdown",
      "metadata": {
        "id": "PVHZIZYYYSRG"
      },
      "source": [
        "---"
      ]
    },
    {
      "cell_type": "markdown",
      "metadata": {
        "id": "68ALyRN5YSRG"
      },
      "source": [
        "###  Type casting\n",
        "\n",
        "Sometimes, we may need to change the type of a variable.\n",
        "\n",
        "For instance, we may want to change a list into a set in order to delete all its repeated elements. A quick way to do so is to transform the list in a set.\n",
        "\n",
        "Other example may involve the `join()` operator and the `print()` functions, that do not accept numbers. Conversion functions can be used to quickly switch numbers to strings.\n",
        "\n",
        "Note that not all types of variables can be switched to other types. In what follows we report some common conversion."
      ]
    },
    {
      "cell_type": "code",
      "execution_count": 205,
      "metadata": {
        "id": "aau15KTaYSRG",
        "outputId": "8eb42d36-5491-4580-bf13-00bd4a8833ab",
        "colab": {
          "base_uri": "https://localhost:8080/",
          "height": 35
        }
      },
      "outputs": [
        {
          "output_type": "execute_result",
          "data": {
            "text/plain": [
              "'3.123424235454'"
            ],
            "application/vnd.google.colaboratory.intrinsic+json": {
              "type": "string"
            }
          },
          "metadata": {},
          "execution_count": 205
        }
      ],
      "source": [
        "# from number to string\n",
        "str(3.123424235454)"
      ]
    },
    {
      "cell_type": "code",
      "execution_count": 206,
      "metadata": {
        "id": "xEDKx3oXYSRH",
        "outputId": "d159079c-fe35-4923-8aa6-95dd40cd7035",
        "colab": {
          "base_uri": "https://localhost:8080/",
          "height": 35
        }
      },
      "outputs": [
        {
          "output_type": "execute_result",
          "data": {
            "text/plain": [
              "'3.12'"
            ],
            "application/vnd.google.colaboratory.intrinsic+json": {
              "type": "string"
            }
          },
          "metadata": {},
          "execution_count": 206
        }
      ],
      "source": [
        "# sometimes you want to round the number\n",
        "str(round(3.123424235454, 2))"
      ]
    },
    {
      "cell_type": "code",
      "execution_count": 207,
      "metadata": {
        "id": "EolmEENHYSRI",
        "outputId": "80807fd5-1e04-4916-f6a3-79b7bfa972ad",
        "colab": {
          "base_uri": "https://localhost:8080/"
        }
      },
      "outputs": [
        {
          "output_type": "execute_result",
          "data": {
            "text/plain": [
              "3"
            ]
          },
          "metadata": {},
          "execution_count": 207
        }
      ],
      "source": [
        "# from string to integer\n",
        "int(\"3\")"
      ]
    },
    {
      "cell_type": "code",
      "execution_count": 208,
      "metadata": {
        "id": "SyJuUMVEYSRI",
        "outputId": "2da53760-ed24-42a1-f305-d8c245e00405",
        "colab": {
          "base_uri": "https://localhost:8080/"
        }
      },
      "outputs": [
        {
          "output_type": "execute_result",
          "data": {
            "text/plain": [
              "3.0"
            ]
          },
          "metadata": {},
          "execution_count": 208
        }
      ],
      "source": [
        "# from string to floating numer\n",
        "float(\"3\")"
      ]
    },
    {
      "cell_type": "code",
      "execution_count": 209,
      "metadata": {
        "id": "FMHg0TCUYSRI",
        "outputId": "1cd336e3-05b0-4371-db58-37150336f075",
        "colab": {
          "base_uri": "https://localhost:8080/"
        }
      },
      "outputs": [
        {
          "output_type": "execute_result",
          "data": {
            "text/plain": [
              "(['list', 'new_text', 7, 38, 'another_text', 92, 23, 'text'],)"
            ]
          },
          "metadata": {},
          "execution_count": 209
        }
      ],
      "source": [
        "# from list to tuple (list cannot be used as dictionary keys, tuples can)\n",
        "tuple([demo_list])"
      ]
    },
    {
      "cell_type": "code",
      "execution_count": 210,
      "metadata": {
        "id": "Q-47v2RjYSRK",
        "outputId": "c29ee0cb-b51a-46ab-aec5-79a6c0712b31",
        "colab": {
          "base_uri": "https://localhost:8080/"
        }
      },
      "outputs": [
        {
          "output_type": "execute_result",
          "data": {
            "text/plain": [
              "{1, 2, 3}"
            ]
          },
          "metadata": {},
          "execution_count": 210
        }
      ],
      "source": [
        "# from list to set\n",
        "set([1,2,3,1,2,3,3])"
      ]
    },
    {
      "cell_type": "code",
      "execution_count": 211,
      "metadata": {
        "id": "SfF6dIBlYSRL",
        "outputId": "6e2b82bc-203c-425b-d19c-8be697e25c79",
        "colab": {
          "base_uri": "https://localhost:8080/"
        }
      },
      "outputs": [
        {
          "output_type": "stream",
          "name": "stdout",
          "text": [
            "['t', 'h', 'i', 's', ' ', 'i', 's', ' ', 'a', ' ', 's', 'e', 'n', 't', 'e', 'n', 'c', 'e']\n"
          ]
        }
      ],
      "source": [
        "# from string to list\n",
        "print(list(\"this is a sentence\"))"
      ]
    },
    {
      "cell_type": "markdown",
      "metadata": {
        "id": "G06cwd5aYSRL"
      },
      "source": [
        "---"
      ]
    },
    {
      "cell_type": "markdown",
      "metadata": {
        "id": "YWj8J7ygYSRL"
      },
      "source": [
        "### Quiz\n",
        "\n",
        "How many different characters did Jonathan Coe use in the tiles of his books?"
      ]
    },
    {
      "cell_type": "code",
      "execution_count": 212,
      "metadata": {
        "id": "OR810lLwYSRL"
      },
      "outputs": [],
      "source": [
        "coe_bibliography = [\"The Accidental Woman\", \"A Touch of Love\", \"The Dwarves of Death\", \"What a Carve Up! or The Winshaw Legacy Viking\", \"The House of Sleep\", \"The Rotters' Club\", \"The Closed Circle\", \"The Rain Before It Falls\", \"The Terrible Privacy of Maxwell Sim\", \"Expo 58\", \"Number 11\"]"
      ]
    },
    {
      "cell_type": "code",
      "execution_count": 213,
      "metadata": {
        "id": "M7QEvFkgYSRL",
        "colab": {
          "base_uri": "https://localhost:8080/"
        },
        "outputId": "1556e989-5b73-4269-d740-36655f08a1be"
      },
      "outputs": [
        {
          "output_type": "stream",
          "name": "stdout",
          "text": [
            "{'The House of Sleep', 'What a Carve Up! or The Winshaw Legacy Viking', 'Expo 58', 'The Closed Circle', 'A Touch of Love', \"The Rotters' Club\", 'The Dwarves of Death', 'The Rain Before It Falls', 'The Terrible Privacy of Maxwell Sim', 'The Accidental Woman', 'Number 11'}\n"
          ]
        },
        {
          "output_type": "execute_result",
          "data": {
            "text/plain": [
              "{'\"The',\n",
              " \"'A\",\n",
              " \"'Expo\",\n",
              " \"'Number\",\n",
              " \"'The\",\n",
              " \"'What\",\n",
              " \"11'}\",\n",
              " \"58',\",\n",
              " 'Accidental',\n",
              " 'Before',\n",
              " 'Carve',\n",
              " \"Circle',\",\n",
              " 'Closed',\n",
              " 'Club\",',\n",
              " \"Death',\",\n",
              " 'Dwarves',\n",
              " \"Falls',\",\n",
              " 'House',\n",
              " 'It',\n",
              " 'Legacy',\n",
              " \"Love',\",\n",
              " 'Maxwell',\n",
              " 'Privacy',\n",
              " 'Rain',\n",
              " \"Rotters'\",\n",
              " \"Sim',\",\n",
              " \"Sleep',\",\n",
              " 'Terrible',\n",
              " 'The',\n",
              " 'Touch',\n",
              " 'Up!',\n",
              " \"Viking',\",\n",
              " 'Winshaw',\n",
              " \"Woman',\",\n",
              " 'a',\n",
              " 'of',\n",
              " 'or',\n",
              " \"{'The\"}"
            ]
          },
          "metadata": {},
          "execution_count": 213
        }
      ],
      "source": [
        "new_coe_bibliography=set(coe_bibliography)\n",
        "print(new_coe_bibliography)\n",
        "str(new_coe_bibliography)\n",
        "str(new_coe_bibliography).split()\n",
        "set(str(new_coe_bibliography).split())"
      ]
    },
    {
      "cell_type": "markdown",
      "metadata": {
        "id": "NU3wJJ5LYSRM"
      },
      "source": [
        "---"
      ]
    },
    {
      "cell_type": "markdown",
      "metadata": {
        "id": "7UglidyrYSRM"
      },
      "source": [
        "## Python Syntax"
      ]
    },
    {
      "cell_type": "markdown",
      "metadata": {
        "id": "Ajxeux_CYSRM"
      },
      "source": [
        "### The Significant Whitespace\n",
        "\n",
        "Most program languages use characters (e.g. `{...}`) or keyworks (e.g. `begin ... end`) to delimitate blocks of codes."
      ]
    },
    {
      "cell_type": "markdown",
      "metadata": {
        "id": "32xF8rCyYSRM"
      },
      "source": [
        "#### When writing Python code, you rely on INDENTATION to structure your programs.\n",
        "\n",
        "All programming languages allow you to indent (and you should!), but in Python you **have to.**\n",
        "\n",
        "Otherwise, you'll receive and IndentationError and your code won't work"
      ]
    },
    {
      "cell_type": "markdown",
      "metadata": {
        "id": "NnM_HfU-YSRM"
      },
      "source": [
        "#### How Indentation Works\n",
        "\n",
        "- All statements with the same distance from the left border belong of the same block of code.\n",
        "\n",
        "\n",
        "- Sub-blocks are more indented, while the block ends at the line less indented.\n",
        "\n",
        "\n",
        "- You should use **4 spaces** per indentation level.\n",
        "\n",
        "\n",
        "- When a statement is too long it's good practice to avoid lines of code longer than 80 characters), it can be split with `\"\\\"`\n",
        "\n",
        "\n",
        "- **Never mix** spaces and tabs in a single source file\n"
      ]
    },
    {
      "cell_type": "markdown",
      "metadata": {
        "id": "g_l8mjoXYSRM"
      },
      "source": [
        "> #### Recommended Reading:\n",
        ">\n",
        "> Recommended Reading: [PEP 8 - Style Guide for Python Code](https://www.python.org/dev/peps/pep-0008/)"
      ]
    },
    {
      "cell_type": "markdown",
      "metadata": {
        "id": "pOqwzExCYSRM"
      },
      "source": [
        "##### The code is way more readable:\n",
        "\n",
        "\n",
        "```python\n",
        "# raw_input() reads from standard input (e.g. keyboard)\n",
        "n_string = raw_input('enter a number, please')\n",
        "\n",
        "if not n_string.isdigit():\n",
        "    print(\"this isn't a number...\")\n",
        "else:\n",
        "    n = int(n_string)\n",
        "    if n == 0:\n",
        "        print(\"zero? why zero?\")\n",
        "    elif n % 2 == 0:\n",
        "        print(\"even\")\n",
        "    else:\n",
        "        print(\"odd\")\n",
        "```"
      ]
    },
    {
      "cell_type": "markdown",
      "metadata": {
        "id": "tdw3aMbXYSRN"
      },
      "source": [
        "##### The structure is transparent:\n",
        "\n",
        "<div style=\"float:left;margin:-12px 0 0 0\" markdown=\"1\">\n",
        "    <img src=\"https://github.com/bloemj/AUC_TMCI_2022/blob/main/notebooks/images/Indent.png?raw=1\" width=\"505\">\n",
        "</div>"
      ]
    },
    {
      "cell_type": "markdown",
      "metadata": {
        "id": "Dr7eWzzWYSRN"
      },
      "source": [
        "### Conditional Statements\n",
        "\n",
        "A lot of programming has to do with executing a block of code only if a certain condition is verified.\n",
        "\n",
        "In Python, the `if-then-else` construct has the form:\n",
        "\n",
        "```python\n",
        "if condition1:\n",
        "    statements\n",
        "elif condition2:\n",
        "    statements\n",
        "elif condition3:\n",
        "    statements\n",
        "else:\n",
        "    statements\n",
        "```\n",
        "\n",
        "Note that the `elif` and `else` clauses are optional. A conditional statement can contain a single `if` block, and nothing else."
      ]
    },
    {
      "cell_type": "code",
      "execution_count": 214,
      "metadata": {
        "id": "0O_h4iUfYSRN",
        "outputId": "8b9f2d40-a18f-4d7f-f359-8839504dbd43",
        "colab": {
          "base_uri": "https://localhost:8080/"
        }
      },
      "outputs": [
        {
          "output_type": "stream",
          "name": "stdout",
          "text": [
            "even\n"
          ]
        }
      ],
      "source": [
        "import random\n",
        "n = random.randrange(0,99)  # random number between 0 and 99\n",
        "if n == 0:\n",
        "    print(\"zero? why zero?\")\n",
        "elif n % 2 == 0:\n",
        "    print(\"even\")\n",
        "else:\n",
        "    print(\"odd\")"
      ]
    },
    {
      "cell_type": "markdown",
      "metadata": {
        "id": "6DdAYyb-YSRN"
      },
      "source": [
        "## Flow control\n",
        "\n",
        "### For Loops\n",
        "\n",
        "Programming is of little use if we cannot repeat an instruction for an intended number of times.\n",
        "\n",
        "The `for` statement allows us to define **iterations** (i.e.taking items from an iterable) by following this template:\n",
        "\n",
        "```python\n",
        "for variable in sequence:\n",
        "\tstatement\n",
        "else:\n",
        "\tstatement\n",
        "```\n",
        "\n",
        "The code in the optional `else` clause is executed if and only if the loop terminates successfully (i.e. without a **`break`**)"
      ]
    },
    {
      "cell_type": "code",
      "execution_count": 215,
      "metadata": {
        "scrolled": true,
        "id": "yrHtudhNYSRN",
        "outputId": "ba5f3051-0d4c-4ac6-9d05-440a08019862",
        "colab": {
          "base_uri": "https://localhost:8080/"
        }
      },
      "outputs": [
        {
          "output_type": "stream",
          "name": "stdout",
          "text": [
            "list\n",
            "new_text\n",
            "7\n",
            "38\n",
            "another_text\n",
            "92\n",
            "23\n",
            "text\n"
          ]
        }
      ],
      "source": [
        "# let's iterate over our demo_list\n",
        "for el in demo_list:\n",
        "    print(el)"
      ]
    },
    {
      "cell_type": "markdown",
      "metadata": {
        "collapsed": true,
        "id": "2qA7PdNJYSRN"
      },
      "source": [
        "#### The enumerate function\n",
        "\n",
        "The `enumerate()` is problably the most used among the functions that supports the iteration of an iterable. This funtion return the current item plus **its index** in the iteration process."
      ]
    },
    {
      "cell_type": "code",
      "execution_count": 216,
      "metadata": {
        "id": "balOFWGYYSRO",
        "outputId": "6c85f133-8c57-403a-ffd8-cb66faf2f54d",
        "colab": {
          "base_uri": "https://localhost:8080/"
        }
      },
      "outputs": [
        {
          "output_type": "stream",
          "name": "stdout",
          "text": [
            "0 --> list\n",
            "1 --> new_text\n",
            "2 --> 7\n",
            "3 --> 38\n",
            "4 --> another_text\n",
            "5 --> 92\n",
            "6 --> 23\n",
            "7 --> text\n"
          ]
        }
      ],
      "source": [
        "# use enumerate in the iteration over our demo_list\n",
        "for i, el in enumerate(demo_list):\n",
        "    print (i, \"-->\", el)"
      ]
    },
    {
      "cell_type": "markdown",
      "metadata": {
        "id": "M-njeR2jYSRO"
      },
      "source": [
        "#### The range construct\n",
        "\n",
        "The  `range()` construct can be used to control the iteration. It generate lists of numbers on the basis of the following three arguments:\n",
        "\n",
        "- `start` : the first integer of the list\n",
        "(default is 0)\n",
        "- `stop` : one larger the last integer of the list (list stop at n - 1)\n",
        "- `step`: the increment of the list (default is 1)"
      ]
    },
    {
      "cell_type": "code",
      "execution_count": 217,
      "metadata": {
        "id": "zfoeRJY7YSRO",
        "outputId": "67ac4506-4b13-4445-9a26-8de9ae5f5c1e",
        "colab": {
          "base_uri": "https://localhost:8080/"
        }
      },
      "outputs": [
        {
          "output_type": "stream",
          "name": "stdout",
          "text": [
            "range(0, 10)\n",
            "range(0, 10)\n",
            "range(1, 10, 2)\n"
          ]
        }
      ],
      "source": [
        "# let's play with range\n",
        "print(range(0,10))\n",
        "print(range(10))\n",
        "print(range(1,10,2))"
      ]
    },
    {
      "cell_type": "code",
      "execution_count": 218,
      "metadata": {
        "id": "cHhCFxOsYSRO",
        "outputId": "bec1177e-d9f1-43ec-dfcc-f1326c04537f",
        "colab": {
          "base_uri": "https://localhost:8080/"
        }
      },
      "outputs": [
        {
          "output_type": "stream",
          "name": "stdout",
          "text": [
            "1\n",
            "3\n",
            "5\n",
            "7\n",
            "9\n"
          ]
        }
      ],
      "source": [
        "# let's use range in a for loop\n",
        "for el in range(1, 10, 2):\n",
        "    print(el)"
      ]
    },
    {
      "cell_type": "markdown",
      "metadata": {
        "id": "chxniPVKYSRO"
      },
      "source": [
        "### While Loops\n",
        "\n",
        "The `while` statement allows us to control a loop on the basis of a condition.\n",
        "\n",
        "A `while` loop runs as long as a condition is verified.\n",
        "\n",
        "It has the following general form:\n",
        "\n",
        "```python\n",
        "while condition:\n",
        "\tstatement\n",
        "else:\n",
        "\tstatement\n",
        "```\n",
        "\n",
        "the code in the optional `else` clause is execute if and only if the loops terminates successfully (i.e., without a **`break`**)"
      ]
    },
    {
      "cell_type": "code",
      "execution_count": 252,
      "metadata": {
        "id": "Z3iTszh1YSRP",
        "outputId": "66c8d861-617e-4340-ed75-3274affa4b09",
        "colab": {
          "base_uri": "https://localhost:8080/"
        }
      },
      "outputs": [
        {
          "output_type": "stream",
          "name": "stdout",
          "text": [
            "1\n",
            "17\n",
            "7\n",
            "32\n"
          ]
        }
      ],
      "source": [
        "n = 1\n",
        "while n % 2 != 0:\n",
        "    n = random.randrange(0,99)\n",
        "    print(n)"
      ]
    },
    {
      "cell_type": "markdown",
      "metadata": {
        "id": "I4IZD82MYSRP"
      },
      "source": [
        "### Break and Continue\n",
        "\n",
        "`break` and `continue` are two statements that allow for a more flexible control of a loop. Intuitively:\n",
        "\n",
        "- `continue` is used to pass to the next iteration of the loop\n",
        "- `break` is used to interrupt the loop abruptly"
      ]
    },
    {
      "cell_type": "code",
      "execution_count": 220,
      "metadata": {
        "id": "09u41Mr1YSRQ",
        "outputId": "c2c7ee65-ec87-49ee-e80e-68f59e1fa068",
        "colab": {
          "base_uri": "https://localhost:8080/"
        }
      },
      "outputs": [
        {
          "output_type": "stream",
          "name": "stdout",
          "text": [
            "1\n",
            "3\n",
            "5\n",
            "9\n"
          ]
        }
      ],
      "source": [
        "# when we encounter 7 we skip to the next step\n",
        "for el in range(1, 10, 2):\n",
        "    if el == 7:\n",
        "        continue\n",
        "    print(el)"
      ]
    },
    {
      "cell_type": "code",
      "execution_count": 221,
      "metadata": {
        "id": "9G7r7-5OYSRQ",
        "outputId": "b3bdd3a0-948c-46fe-f3f8-b79947c62ba2",
        "colab": {
          "base_uri": "https://localhost:8080/"
        }
      },
      "outputs": [
        {
          "output_type": "stream",
          "name": "stdout",
          "text": [
            "1\n",
            "3\n",
            "5\n"
          ]
        }
      ],
      "source": [
        "# when we encounter 7 we stop our loop\n",
        "for el in range(1, 10, 2):\n",
        "    if el == 7:\n",
        "        break\n",
        "    print(el)"
      ]
    },
    {
      "cell_type": "markdown",
      "metadata": {
        "id": "jLTfKR7VYSRQ"
      },
      "source": [
        "`break` influence the execution of the loop in yet another way: when a loop terminates due to a `break` statement, the code embedded in the option `else` clause is skipped."
      ]
    },
    {
      "cell_type": "code",
      "execution_count": 253,
      "metadata": {
        "id": "ioqvxgYYYSRQ",
        "outputId": "417afabe-7d40-40b9-ea32-eadabaa791a7",
        "colab": {
          "base_uri": "https://localhost:8080/"
        }
      },
      "outputs": [
        {
          "output_type": "stream",
          "name": "stdout",
          "text": [
            "1\n",
            "3\n",
            "5\n",
            "(let's ignore the 7)\n",
            "9\n",
            ">>> the iteration ended with the number 9\n"
          ]
        }
      ],
      "source": [
        "# the continue statement does not influence the execution of the else block\n",
        "for el in range(1, 10, 2):\n",
        "    if el == 7:\n",
        "        print (\"(let's ignore the \" + str(el) + \")\")\n",
        "        continue\n",
        "    print(el)\n",
        "else:\n",
        "    print (\">>> the iteration ended with the number \" + str(el))"
      ]
    },
    {
      "cell_type": "code",
      "execution_count": 223,
      "metadata": {
        "id": "pXbB44glYSRQ",
        "outputId": "4eb20415-b330-4374-f4be-8fe7d57edcec",
        "colab": {
          "base_uri": "https://localhost:8080/"
        }
      },
      "outputs": [
        {
          "output_type": "stream",
          "name": "stdout",
          "text": [
            "1\n",
            "3\n",
            "5\n",
            "(we encountered the number 7, let's break the loop)\n"
          ]
        }
      ],
      "source": [
        "# what if we replace continue with break\n",
        "for el in range(1, 10, 2):\n",
        "    if el == 7:\n",
        "        print (\"(we encountered the number \" + str(el) + \", let's break the loop)\")\n",
        "        break\n",
        "    print(el)\n",
        "else:\n",
        "    print (\">>> the iteration ended with the number \" + str(el))"
      ]
    },
    {
      "cell_type": "markdown",
      "metadata": {
        "id": "9p_9zx56YSRQ"
      },
      "source": [
        "### The Pass Statement\n",
        "\n",
        "Given the importance of indentation for Python, sometimes we may need a placeholder that allows us to write down a condition for an `if-then-else` construct or for a `while` loop without writing any statement (maybe just a comment). This is the case in which the `pass` statement comes in handy.\n",
        "\n",
        "In what follows, **nothing happens**:\n",
        "\n",
        "```python\n",
        "if condition1:\n",
        "    pass\n",
        "else:\n",
        "    pass\n",
        "```\n"
      ]
    },
    {
      "cell_type": "markdown",
      "metadata": {
        "id": "shnPIjN8YSRR"
      },
      "source": [
        "### List Comprehensions\n",
        "\n",
        "A list comprehension is a syntactic construct that allows us to create lists by applying a function on another list, in just **one line** of code.\n",
        "\n",
        "Even if the reverse isn't always true, list comprehensions can always be (inefficiently) expressed as loops. We will exploit this family resemblance for introducing this construct."
      ]
    },
    {
      "cell_type": "markdown",
      "metadata": {
        "id": "S_a5Kje9YSRR"
      },
      "source": [
        "In what follows, we start with a list of numbers and we want to square all of its elements and save our final values in a new list."
      ]
    },
    {
      "cell_type": "code",
      "execution_count": 254,
      "metadata": {
        "id": "pTo2a5vBYSRR"
      },
      "outputs": [],
      "source": [
        "# our source list\n",
        "source_list = [1,2,3,4,5,6,7,8,9]"
      ]
    },
    {
      "cell_type": "code",
      "execution_count": 255,
      "metadata": {
        "id": "5BUnZBlMYSRR",
        "outputId": "11f0de35-111f-48a7-8ad5-1c44a83603f8",
        "colab": {
          "base_uri": "https://localhost:8080/"
        }
      },
      "outputs": [
        {
          "output_type": "stream",
          "name": "stdout",
          "text": [
            "[1, 4, 9, 16, 25, 36, 49, 64, 81]\n"
          ]
        }
      ],
      "source": [
        "# we can solve this problem with a for loop...\n",
        "final_list = []\n",
        "for el in source_list:\n",
        "    final_list.append(el ** 2)\n",
        "print(final_list)"
      ]
    },
    {
      "cell_type": "code",
      "execution_count": 226,
      "metadata": {
        "id": "VrGBDtO_YSRR",
        "outputId": "d898bcc4-7cce-483a-dd43-f160d694ed00",
        "colab": {
          "base_uri": "https://localhost:8080/"
        }
      },
      "outputs": [
        {
          "output_type": "stream",
          "name": "stdout",
          "text": [
            "[1, 4, 9, 16, 25, 36, 49, 64, 81]\n"
          ]
        }
      ],
      "source": [
        "# ... or by using list comprehension\n",
        "final_list = [el ** 2 for el in source_list]\n",
        "print(final_list)"
      ]
    },
    {
      "cell_type": "markdown",
      "metadata": {
        "id": "6dETInNLYSRR"
      },
      "source": [
        "**Conditional statements may be implemented**\n",
        "\n",
        "In what follows we want to ignore all the odd numbers"
      ]
    },
    {
      "cell_type": "code",
      "execution_count": 256,
      "metadata": {
        "id": "elxFwbkCYSRR",
        "outputId": "5f437b94-c809-4b05-db8f-1c78b46de7af",
        "colab": {
          "base_uri": "https://localhost:8080/"
        }
      },
      "outputs": [
        {
          "output_type": "stream",
          "name": "stdout",
          "text": [
            "[4, 16, 36, 64]\n"
          ]
        }
      ],
      "source": [
        "# we can solve this problem with a for loop...\n",
        "final_list = []\n",
        "for el in source_list:\n",
        "    if el % 2 == 0:\n",
        "        final_list.append(el ** 2)\n",
        "print(final_list)"
      ]
    },
    {
      "cell_type": "code",
      "execution_count": 257,
      "metadata": {
        "id": "BQrWCl8oYSRS",
        "outputId": "9ec2e642-a8f8-4c1d-be80-f73c11872751",
        "colab": {
          "base_uri": "https://localhost:8080/"
        }
      },
      "outputs": [
        {
          "output_type": "stream",
          "name": "stdout",
          "text": [
            "[4, 16, 36, 64]\n"
          ]
        }
      ],
      "source": [
        "# ... or by using list comprehension\n",
        "final_list = [el ** 2 for el in source_list if el % 2 == 0]\n",
        "print(final_list)"
      ]
    },
    {
      "cell_type": "markdown",
      "metadata": {
        "id": "2WOmfaDWYSRS"
      },
      "source": [
        "**If you want to implement an else clause the syntax changes slightly**\n",
        "\n",
        "In what follows we want to leave the odd numbers unchanged"
      ]
    },
    {
      "cell_type": "code",
      "execution_count": 259,
      "metadata": {
        "id": "lkEKFMmlYSRS",
        "outputId": "741b68a3-4f06-4917-d51b-f497965c74cc",
        "colab": {
          "base_uri": "https://localhost:8080/"
        }
      },
      "outputs": [
        {
          "output_type": "stream",
          "name": "stdout",
          "text": [
            "[1, 4, 3, 16, 5, 36, 7, 64, 9]\n"
          ]
        }
      ],
      "source": [
        "# we can solve this problem with a for loop...\n",
        "final_list = []\n",
        "for el in source_list:\n",
        "    if el % 2 == 0:\n",
        "        final_list.append(el ** 2)\n",
        "    else:\n",
        "        final_list.append(el)\n",
        "print(final_list)"
      ]
    },
    {
      "cell_type": "code",
      "execution_count": 258,
      "metadata": {
        "id": "ngDvRVJKYSRS",
        "outputId": "c517c820-7b99-4cf5-a723-542155c16c31",
        "colab": {
          "base_uri": "https://localhost:8080/"
        }
      },
      "outputs": [
        {
          "output_type": "stream",
          "name": "stdout",
          "text": [
            "[1, 4, 3, 16, 5, 36, 7, 64, 9]\n"
          ]
        }
      ],
      "source": [
        "# ... or by using list comprehension\n",
        "final_list = [el ** 2 if el % 2 == 0 else el for el in source_list]\n",
        "print(final_list)"
      ]
    },
    {
      "cell_type": "markdown",
      "metadata": {
        "id": "ZUproSOIYSRS"
      },
      "source": [
        "---"
      ]
    },
    {
      "cell_type": "markdown",
      "metadata": {
        "id": "CA9B-HP9YSRS"
      },
      "source": [
        "### Quiz\n",
        "\n",
        "The list `random_numbers` contains 20 randomly generated integers.\n",
        "\n",
        "Create a new list containing only the positive numbers from the list"
      ]
    },
    {
      "cell_type": "code",
      "execution_count": 231,
      "metadata": {
        "id": "XfMvc2ljYSRS"
      },
      "outputs": [],
      "source": [
        "random_numbers = [81, -36, 15, -96, 14, 51, 70, 40, -15, -64, -25, 82, -88, 7, -13, -30, 12, 32, 96, -55]"
      ]
    },
    {
      "cell_type": "code",
      "execution_count": 260,
      "metadata": {
        "id": "XRqwsD83YSRT",
        "colab": {
          "base_uri": "https://localhost:8080/"
        },
        "outputId": "138b9f71-845d-442c-f760-ebeb544df0ec"
      },
      "outputs": [
        {
          "output_type": "stream",
          "name": "stdout",
          "text": [
            "[81, 15, 14, 51, 70, 40, 82, 7, 12, 32, 96]\n"
          ]
        }
      ],
      "source": [
        "final_list = []\n",
        "for el in random_numbers:\n",
        "    if el >= 0:\n",
        "        final_list.append(el)\n",
        "print(final_list)"
      ]
    },
    {
      "cell_type": "markdown",
      "metadata": {
        "id": "mG33u2INYSRT"
      },
      "source": [
        "---"
      ]
    },
    {
      "cell_type": "markdown",
      "metadata": {
        "id": "NlIQ0PPDYSRT"
      },
      "source": [
        "**Here's something you might find useful:**\n",
        "\n",
        "[Python Cheat Sheet](https://www.cheatography.com/davechild/cheat-sheets/python/)\n",
        "\n",
        "Collects much of the syntax we used today."
      ]
    },
    {
      "cell_type": "markdown",
      "metadata": {
        "id": "_ok-Y7uYYSRT"
      },
      "source": [
        "---"
      ]
    },
    {
      "cell_type": "markdown",
      "metadata": {
        "id": "z9mDJmB5YSRT"
      },
      "source": [
        "### Exercise 1.\n",
        "\n",
        "The code in the next cell creates a variable called `zen_text`, and assigns it a nicely formatted version of the textual elements of the Zen of Python.\n",
        "\n",
        "**Count the number of non-empty lines** of this manifesto."
      ]
    },
    {
      "cell_type": "code",
      "execution_count": 395,
      "metadata": {
        "id": "VxC_ZIM4YSRT",
        "colab": {
          "base_uri": "https://localhost:8080/"
        },
        "outputId": "8b720aac-786c-4add-ef9f-d10d3b4c87f8"
      },
      "outputs": [
        {
          "output_type": "stream",
          "name": "stdout",
          "text": [
            "20\n"
          ]
        }
      ],
      "source": [
        "import this\n",
        "zen_text = ''.join(this.d.get(el, el) for el in this.s)\n",
        "split_text = zen_text.split(\"\\n\")\n",
        "count=0\n",
        "for line in split_text:\n",
        "  if line != \"\":\n",
        "    count=count+1\n",
        "print(count)\n",
        "\n",
        ""
      ]
    },
    {
      "cell_type": "code",
      "execution_count": 343,
      "metadata": {
        "id": "0ODm3rymYSRT",
        "colab": {
          "base_uri": "https://localhost:8080/"
        },
        "outputId": "1ef92b14-085a-4c45-9d20-bd8dd2407ab7"
      },
      "outputs": [
        {
          "output_type": "stream",
          "name": "stdout",
          "text": [
            "The Zen of Python, by Tim Peters\n",
            "\n",
            "Beautiful is better than ugly.\n",
            "Explicit is better than implicit.\n",
            "Simple is better than complex.\n",
            "Complex is better than complicated.\n",
            "Flat is better than nested.\n",
            "Sparse is better than dense.\n",
            "Readability counts.\n",
            "Special cases aren't special enough to break the rules.\n",
            "Although practicality beats purity.\n",
            "Errors should never pass silently.\n",
            "Unless explicitly silenced.\n",
            "In the face of ambiguity, refuse the temptation to guess.\n",
            "There should be one-- and preferably only one --obvious way to do it.\n",
            "Although that way may not be obvious at first unless you're Dutch.\n",
            "Now is better than never.\n",
            "Although never is often better than *right* now.\n",
            "If the implementation is hard to explain, it's a bad idea.\n",
            "If the implementation is easy to explain, it may be a good idea.\n",
            "Namespaces are one honking great idea -- let's do more of those!\n"
          ]
        }
      ],
      "source": [
        "print(zen_text)"
      ]
    },
    {
      "cell_type": "markdown",
      "metadata": {
        "id": "fC8fpswbYSRT"
      },
      "source": [
        "### Exercise 2.\n",
        "\n",
        "The dictionary in the following cell reports, for each Scrubs character, a nested dictionary containing the name of the actor, the age of the character and its credentials.\n",
        "\n",
        "Write code to answer the following questions:\n",
        "\n",
        "- what are the **names of the actors** of the cast?\n",
        "\n",
        "\n",
        "- what is the **average age** of the characters?\n",
        "\n",
        "\n",
        "- how **many M.D.s** are there in the main cast?"
      ]
    },
    {
      "cell_type": "code",
      "execution_count": 235,
      "metadata": {
        "id": "vGZe1SF0YSRU"
      },
      "outputs": [],
      "source": [
        "scrubs_main = {'Bob Kelso': {'actor': 'Ken Jenkins', 'age': 70, 'credentials': 'M.D.'},\n",
        "               'Carla Espinosa-Turk': {'actor': 'Judy Reyes', 'age': 36, 'credentials': 'RN'},\n",
        "               'Christopher Turk': {'actor': 'Donald Faison', 'age': 31, 'credentials': 'M.D.'},\n",
        "               'Elliot Reid': {'actor': 'Sarah Chalke', 'age': 29, 'credentials': 'M.D.'},\n",
        "               'J.D.': {'actor': 'Zach Braff', 'age': 31, 'credentials': 'M.D.'},\n",
        "               'Janitor': {'actor': 'Neil Flynn', 'age': 40, 'credentials': None},\n",
        "               'Perry Cox': {'actor': 'John C. McGinley', 'age': 45, 'credentials': 'M.D.'}}"
      ]
    },
    {
      "cell_type": "code",
      "execution_count": 348,
      "metadata": {
        "id": "GepXuck8YSRU",
        "colab": {
          "base_uri": "https://localhost:8080/"
        },
        "outputId": "27ceda7f-f1a2-4576-aa10-96ca0125d3c8"
      },
      "outputs": [
        {
          "output_type": "stream",
          "name": "stdout",
          "text": [
            "Ken Jenkins\n",
            "Judy Reyes\n",
            "Donald Faison\n",
            "Sarah Chalke\n",
            "Zach Braff\n",
            "Neil Flynn\n",
            "John C. McGinley\n",
            "['Ken Jenkins', 'Judy Reyes', 'Donald Faison', 'Sarah Chalke', 'Zach Braff', 'Neil Flynn', 'John C. McGinley']\n",
            "70\n",
            "36\n",
            "31\n",
            "29\n",
            "31\n",
            "40\n",
            "45\n",
            "[70, 36, 31, 29, 31, 40, 45]\n",
            "40.285714285714285\n",
            "['M.D.', 'M.D.', 'M.D.', 'M.D.', 'M.D.']\n"
          ]
        },
        {
          "output_type": "execute_result",
          "data": {
            "text/plain": [
              "5"
            ]
          },
          "metadata": {},
          "execution_count": 348
        }
      ],
      "source": [
        "final_list = []\n",
        "for el in scrubs_main:\n",
        "    actor_name = scrubs_main[el]['actor']\n",
        "    #print(scrubs_main)\n",
        "    #print(el)\n",
        "    print(actor_name)\n",
        "    final_list.append(actor_name)\n",
        "print(final_list)\n",
        "age_list = []\n",
        "for el in scrubs_main:\n",
        "    average_age_dic = scrubs_main[el]['age']\n",
        "    print(average_age_dic)\n",
        "    age_list.append(average_age_dic)\n",
        "print(age_list)\n",
        "average_age_list = sum(age_list)/len(age_list)\n",
        "print(average_age_list)\n",
        "list_of_MD= []\n",
        "for el in scrubs_main:\n",
        "    MD_list = scrubs_main[el]['credentials']\n",
        "    if MD_list == 'M.D.':\n",
        "      list_of_MD.append(MD_list)\n",
        "print(list_of_MD)\n",
        "len(list_of_MD)\n",
        "#number_of_MD = [el == 1 if el is 'M.D.']\n",
        "#print[number_of_MD]\n",
        "\n",
        "\n",
        "\n"
      ]
    },
    {
      "cell_type": "markdown",
      "metadata": {
        "id": "zxg8a1p3YSRU"
      },
      "source": []
    }
  ],
  "metadata": {
    "kernelspec": {
      "display_name": "Python 3",
      "language": "python",
      "name": "python3"
    },
    "language_info": {
      "codemirror_mode": {
        "name": "ipython",
        "version": 3
      },
      "file_extension": ".py",
      "mimetype": "text/x-python",
      "name": "python",
      "nbconvert_exporter": "python",
      "pygments_lexer": "ipython3",
      "version": "3.8.5"
    },
    "toc": {
      "base_numbering": 1,
      "nav_menu": {},
      "number_sections": true,
      "sideBar": true,
      "skip_h1_title": false,
      "title_cell": "Table of Contents",
      "title_sidebar": "Contents",
      "toc_cell": false,
      "toc_position": {},
      "toc_section_display": true,
      "toc_window_display": true
    },
    "colab": {
      "name": "1_Fundamentals.ipynb",
      "provenance": []
    }
  },
  "nbformat": 4,
  "nbformat_minor": 0
}